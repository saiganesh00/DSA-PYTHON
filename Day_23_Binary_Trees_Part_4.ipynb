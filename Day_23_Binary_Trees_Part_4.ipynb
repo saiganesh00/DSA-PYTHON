{
 "cells": [
  {
   "cell_type": "code",
   "execution_count": 1,
   "id": "09d4bc2c",
   "metadata": {},
   "outputs": [],
   "source": [
    "# serialize and deserialize tree\n",
    "\n",
    "def serialize(root):\n",
    "    return str(root.data) + \"(\" + serialize(root.left) + \")(\" + serialize(root.right) + \")\"\n",
    "\n",
    "def deserialize(root):\n",
    "    if data == \"X\":\n",
    "        return None\n",
    "    data = data.split(\"(\", 1)\n",
    "    root = TreeNode(data[0])\n",
    "    count = 1\n",
    "    data = data[1]\n",
    "    for i in range(len(data)):\n",
    "        if data[i] == \"(\":\n",
    "            count += 1\n",
    "        elif data[i] == \")\":\n",
    "            count -= 1\n",
    "            \n",
    "            if count == 0:\n",
    "                root.left = deserialize(data[:i])\n",
    "                root.right = deserialize(data[i+2:-1])\n",
    "                return root"
   ]
  },
  {
   "cell_type": "code",
   "execution_count": 2,
   "id": "eaa2d6e7",
   "metadata": {},
   "outputs": [],
   "source": [
    "# Merge two binary trees\n",
    "\n",
    "def merge_two_trees(root1, root2):\n",
    "    if not root1:\n",
    "        return root2\n",
    "    if not root2:\n",
    "        return root1\n",
    "    root = TreeNode(root1.data + root2.data)\n",
    "    root.left = merge_two_trees(root1.left, root2.left)\n",
    "    root.right = merge_two_trees(root1.right, root2.right)\n",
    "    return root"
   ]
  },
  {
   "cell_type": "code",
   "execution_count": 3,
   "id": "f6915296",
   "metadata": {},
   "outputs": [],
   "source": [
    "# Merge two binary trees\n",
    "\n",
    "def merge_two_trees(root1, root2):\n",
    "    if not root1:\n",
    "        return root2\n",
    "    if not root2:\n",
    "        return root1\n",
    "    root1.data = root1.data + root2.data\n",
    "    root1.left = merge_two_trees(root1.left, root2.left)\n",
    "    root1.right = merge_two_trees(root1.right, root2.right)\n",
    "    return root"
   ]
  },
  {
   "cell_type": "code",
   "execution_count": null,
   "id": "a3e1fc75",
   "metadata": {},
   "outputs": [],
   "source": []
  }
 ],
 "metadata": {
  "kernelspec": {
   "display_name": "Python 3 (ipykernel)",
   "language": "python",
   "name": "python3"
  },
  "language_info": {
   "codemirror_mode": {
    "name": "ipython",
    "version": 3
   },
   "file_extension": ".py",
   "mimetype": "text/x-python",
   "name": "python",
   "nbconvert_exporter": "python",
   "pygments_lexer": "ipython3",
   "version": "3.11.4"
  }
 },
 "nbformat": 4,
 "nbformat_minor": 5
}

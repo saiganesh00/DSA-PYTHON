{
 "cells": [
  {
   "cell_type": "markdown",
   "id": "0d5d7c9e",
   "metadata": {},
   "source": [
    "### **Trees**"
   ]
  },
  {
   "cell_type": "code",
   "execution_count": 1,
   "id": "96678bb7",
   "metadata": {},
   "outputs": [],
   "source": [
    "class TreeNode:\n",
    "    def __init__(self, data, left = None, right = None):\n",
    "        self.data = data\n",
    "        self.left = left\n",
    "        self.right = right"
   ]
  },
  {
   "cell_type": "code",
   "execution_count": 2,
   "id": "ca5b2939",
   "metadata": {},
   "outputs": [
    {
     "name": "stdout",
     "output_type": "stream",
     "text": [
      "1\n",
      "2\n",
      "3\n"
     ]
    }
   ],
   "source": [
    "a = TreeNode(1)\n",
    "b = TreeNode(2)\n",
    "c = TreeNode(3)\n",
    "\n",
    "a.left = b\n",
    "a.right = c\n",
    "\n",
    "print(a.data)\n",
    "print(a.left.data)\n",
    "print(a.right.data)"
   ]
  },
  {
   "cell_type": "code",
   "execution_count": 3,
   "id": "cacbf384",
   "metadata": {
    "scrolled": true
   },
   "outputs": [
    {
     "name": "stdout",
     "output_type": "stream",
     "text": [
      "1\n",
      "2\n",
      "3\n"
     ]
    }
   ],
   "source": [
    "a = TreeNode(1, TreeNode(2), TreeNode(3))\n",
    "\n",
    "print(a.data)\n",
    "print(a.left.data)\n",
    "print(a.right.data)"
   ]
  },
  {
   "cell_type": "code",
   "execution_count": 4,
   "id": "52d8d7c4",
   "metadata": {},
   "outputs": [
    {
     "name": "stdout",
     "output_type": "stream",
     "text": [
      "a\n",
      "b\n",
      "c\n"
     ]
    }
   ],
   "source": [
    "a = TreeNode(\"a\", TreeNode(\"b\", TreeNode(\"d\"), TreeNode(\"e\")), TreeNode(\"c\", TreeNode(\"f\"), TreeNode(\"g\")))\n",
    "\n",
    "print(a.data)\n",
    "print(a.left.data)\n",
    "print(a.right.data)"
   ]
  },
  {
   "cell_type": "code",
   "execution_count": 5,
   "id": "7f5f1339",
   "metadata": {},
   "outputs": [],
   "source": [
    "def in_order_traversal(root):\n",
    "    if not root:\n",
    "        return \n",
    "    in_order_traversal(root.left)\n",
    "    print(root.data, end = \" \")\n",
    "    in_order_traversal(root.right)"
   ]
  },
  {
   "cell_type": "code",
   "execution_count": 6,
   "id": "15dde953",
   "metadata": {},
   "outputs": [
    {
     "name": "stdout",
     "output_type": "stream",
     "text": [
      "d b e a f c g "
     ]
    }
   ],
   "source": [
    "in_order_traversal(a)"
   ]
  },
  {
   "cell_type": "code",
   "execution_count": 7,
   "id": "7184ab9b",
   "metadata": {},
   "outputs": [],
   "source": [
    "def pre_order_traversal(root):\n",
    "    if not root:\n",
    "        return \n",
    "    print(root.data, end = \" \")\n",
    "    pre_order_traversal(root.left)\n",
    "    pre_order_traversal(root.right)"
   ]
  },
  {
   "cell_type": "code",
   "execution_count": 8,
   "id": "6277c237",
   "metadata": {},
   "outputs": [
    {
     "name": "stdout",
     "output_type": "stream",
     "text": [
      "a b d e c f g "
     ]
    }
   ],
   "source": [
    "pre_order_traversal(a)"
   ]
  },
  {
   "cell_type": "code",
   "execution_count": 9,
   "id": "3db70846",
   "metadata": {},
   "outputs": [],
   "source": [
    "def post_order_traversal(root):\n",
    "    if not root:\n",
    "        return \n",
    "    post_order_traversal(root.left)\n",
    "    post_order_traversal(root.right)\n",
    "    print(root.data, end = \" \")"
   ]
  },
  {
   "cell_type": "code",
   "execution_count": 10,
   "id": "5a6113dd",
   "metadata": {},
   "outputs": [
    {
     "name": "stdout",
     "output_type": "stream",
     "text": [
      "d e b f g c a "
     ]
    }
   ],
   "source": [
    "post_order_traversal(a)"
   ]
  },
  {
   "cell_type": "code",
   "execution_count": 11,
   "id": "84c959f7",
   "metadata": {},
   "outputs": [],
   "source": [
    "from collections import deque\n",
    "def level_order_traversal(root):\n",
    "    q = deque([root])   \n",
    "    while q:\n",
    "        x = q.pop()\n",
    "        print(x.data, end = \" \")\n",
    "        if x.left:\n",
    "            q.appendleft(x.left)\n",
    "        if x.right:\n",
    "            q.appendleft(x.right)"
   ]
  },
  {
   "cell_type": "code",
   "execution_count": 12,
   "id": "f26fa9a2",
   "metadata": {},
   "outputs": [
    {
     "name": "stdout",
     "output_type": "stream",
     "text": [
      "a b c d e f g "
     ]
    }
   ],
   "source": [
    "level_order_traversal(a)"
   ]
  },
  {
   "cell_type": "code",
   "execution_count": 13,
   "id": "fd7bb38f",
   "metadata": {},
   "outputs": [],
   "source": [
    "from collections import deque\n",
    "def level_order_traversal(root):\n",
    "    q = deque([None, root])   \n",
    "    while True:\n",
    "        x = q.pop()\n",
    "        if x:\n",
    "            print(x.data)\n",
    "            if x.left:\n",
    "                q.appendleft(x.left)\n",
    "            if x.right:\n",
    "                q.appendleft(x.right)\n",
    "        else:\n",
    "            print(\"-----\")\n",
    "            if q:\n",
    "                q.appendleft(None)\n",
    "            else:\n",
    "                break"
   ]
  },
  {
   "cell_type": "code",
   "execution_count": 14,
   "id": "81db2a21",
   "metadata": {},
   "outputs": [
    {
     "name": "stdout",
     "output_type": "stream",
     "text": [
      "a\n",
      "-----\n",
      "b\n",
      "c\n",
      "-----\n",
      "d\n",
      "e\n",
      "f\n",
      "g\n",
      "-----\n"
     ]
    }
   ],
   "source": [
    "l = level_order_traversal(a)"
   ]
  },
  {
   "cell_type": "code",
   "execution_count": null,
   "id": "e7dff62f",
   "metadata": {},
   "outputs": [],
   "source": []
  }
 ],
 "metadata": {
  "kernelspec": {
   "display_name": "Python 3 (ipykernel)",
   "language": "python",
   "name": "python3"
  },
  "language_info": {
   "codemirror_mode": {
    "name": "ipython",
    "version": 3
   },
   "file_extension": ".py",
   "mimetype": "text/x-python",
   "name": "python",
   "nbconvert_exporter": "python",
   "pygments_lexer": "ipython3",
   "version": "3.11.4"
  }
 },
 "nbformat": 4,
 "nbformat_minor": 5
}

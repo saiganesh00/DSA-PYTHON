{
 "cells": [
  {
   "cell_type": "markdown",
   "id": "5a5da463",
   "metadata": {},
   "source": [
    "## **OOP's**"
   ]
  },
  {
   "cell_type": "code",
   "execution_count": 1,
   "id": "78a401c5",
   "metadata": {},
   "outputs": [],
   "source": [
    "class Car:\n",
    "    pass"
   ]
  },
  {
   "cell_type": "code",
   "execution_count": 2,
   "id": "f5059e50",
   "metadata": {},
   "outputs": [
    {
     "name": "stdout",
     "output_type": "stream",
     "text": [
      "<class '__main__.Car'>\n",
      "Ford ecosport\n"
     ]
    }
   ],
   "source": [
    "# instance variables\n",
    "\n",
    "car1 = Car()\n",
    "car1.company = \"Ford\"\n",
    "car1.name = \"ecosport\"\n",
    "print(type(car1))\n",
    "print(car1.company, car1.name)"
   ]
  },
  {
   "cell_type": "code",
   "execution_count": 3,
   "id": "87fa4faf",
   "metadata": {},
   "outputs": [
    {
     "name": "stdout",
     "output_type": "stream",
     "text": [
      "<class '__main__.Car'>\n",
      "Tata nano\n"
     ]
    }
   ],
   "source": [
    "car2 = Car()\n",
    "car2.company = \"Tata\"\n",
    "car2.name = \"nano\"\n",
    "print(type(car2))\n",
    "print(car2.company, car2.name)"
   ]
  },
  {
   "cell_type": "code",
   "execution_count": 4,
   "id": "947a08e9",
   "metadata": {},
   "outputs": [
    {
     "name": "stdout",
     "output_type": "stream",
     "text": [
      "Hello World!\n"
     ]
    }
   ],
   "source": [
    "# instance methods\n",
    "\n",
    "class Car:\n",
    "    def sample(self):\n",
    "        print(\"Hello World!\")\n",
    "\n",
    "car1 = Car()\n",
    "car1.sample()"
   ]
  },
  {
   "cell_type": "code",
   "execution_count": 5,
   "id": "4613f9ec",
   "metadata": {},
   "outputs": [
    {
     "name": "stdout",
     "output_type": "stream",
     "text": [
      "<__main__.Car object at 0x0000026ED6759D90>\n",
      "<__main__.Car object at 0x0000026ED6759D90>\n"
     ]
    }
   ],
   "source": [
    "class Car:\n",
    "    def sample(self):\n",
    "        print(self)\n",
    "\n",
    "car1 = Car()\n",
    "car1.sample()\n",
    "print(car1)"
   ]
  },
  {
   "cell_type": "code",
   "execution_count": 6,
   "id": "47905d6d",
   "metadata": {},
   "outputs": [
    {
     "name": "stdout",
     "output_type": "stream",
     "text": [
      "Hello World!\n",
      "Ford ecosport\n",
      "\n",
      "Hello World!\n",
      "Tata nano\n",
      "\n"
     ]
    }
   ],
   "source": [
    "class Car:\n",
    "    def sample(self):\n",
    "        print(\"Hello World!\")\n",
    "        print(self.company, self.name)\n",
    "        print()\n",
    "car1 = Car()\n",
    "car1.company = \"Ford\"\n",
    "car1.name = \"ecosport\"\n",
    "car1.sample()\n",
    "\n",
    "car2 = Car()\n",
    "car2.company = \"Tata\"\n",
    "car2.name = \"nano\"\n",
    "car2.sample()"
   ]
  },
  {
   "cell_type": "code",
   "execution_count": 7,
   "id": "9384b328",
   "metadata": {},
   "outputs": [
    {
     "name": "stdout",
     "output_type": "stream",
     "text": [
      "Hello World!\n",
      "ecosport 2001\n"
     ]
    }
   ],
   "source": [
    "class Car:\n",
    "    def sample(self):\n",
    "        print(\"Hello World!\")\n",
    "    \n",
    "    def func(self, year_of_making):\n",
    "        self.year = year_of_making\n",
    "\n",
    "car1 = Car()\n",
    "car1.company = \"Ford\"\n",
    "car1.name = \"ecosport\"\n",
    "car1.sample()\n",
    "car1.func(2001)\n",
    "print(car1.name, car1.year)"
   ]
  },
  {
   "cell_type": "code",
   "execution_count": 8,
   "id": "022c7557",
   "metadata": {},
   "outputs": [
    {
     "name": "stdout",
     "output_type": "stream",
     "text": [
      "This car object is of company Ford and of name ecosport\n",
      "8\n",
      "This car object is of company Tata and of name ecosport\n"
     ]
    }
   ],
   "source": [
    "# dunder methods --> Magic methods --> double underscore methods\n",
    "\n",
    "class Car:\n",
    "    \n",
    "    def __str__(self):\n",
    "        return f\"This car object is of company {self.company} and of name {self.name}\"\n",
    "    \n",
    "    def __len__(self):\n",
    "        return len(self.name)\n",
    "    \n",
    "    def __add__(self, car2):\n",
    "        car3 = Car()\n",
    "        car3.name = self.name\n",
    "        car3.company = car2.company\n",
    "        return car3\n",
    "#         print(self, car2)\n",
    "#         return None\n",
    "            \n",
    "    \n",
    "    def sample(self):\n",
    "        print(\"Hello World!\")\n",
    "    \n",
    "    def func(self, year_of_making):\n",
    "        self.year = year_of_making\n",
    "        \n",
    "car1 = Car()\n",
    "car1.company = \"Ford\"\n",
    "car1.name = \"ecosport\"\n",
    "print(car1)\n",
    "print(len(car1))\n",
    "\n",
    "\n",
    "car2 = Car()\n",
    "car2.company = \"Tata\"\n",
    "car2.name = \"nano\"\n",
    "car3 = car1 + car2\n",
    "print(car3)"
   ]
  },
  {
   "cell_type": "code",
   "execution_count": 9,
   "id": "b47e95fc",
   "metadata": {},
   "outputs": [
    {
     "data": {
      "text/plain": [
       "{'name': 'ecosport', 'company': 'Tata'}"
      ]
     },
     "execution_count": 9,
     "metadata": {},
     "output_type": "execute_result"
    }
   ],
   "source": [
    "car3.__dict__"
   ]
  },
  {
   "cell_type": "code",
   "execution_count": 10,
   "id": "ad5daea7",
   "metadata": {},
   "outputs": [
    {
     "name": "stdout",
     "output_type": "stream",
     "text": [
      "Hello\n"
     ]
    }
   ],
   "source": [
    "class Car:\n",
    "    def __init__(self):\n",
    "        print(\"Hello\")\n",
    "        \n",
    "        \n",
    "car1 = Car()"
   ]
  },
  {
   "cell_type": "code",
   "execution_count": 11,
   "id": "408316e1",
   "metadata": {},
   "outputs": [
    {
     "name": "stdout",
     "output_type": "stream",
     "text": [
      "car Ford Ecosport\n",
      "car Mahindra Thar\n"
     ]
    }
   ],
   "source": [
    "class Car:\n",
    "    def __init__(self, company, name):\n",
    "        self.company = company\n",
    "        self.name = name\n",
    "    def __str__(self):\n",
    "        return f\"car {self.company} {self.name}\"\n",
    "        \n",
    "car1 = Car(\"Ford\", \"Ecosport\")\n",
    "print(car1)\n",
    "\n",
    "car2 = Car(\"Mahindra\", \"Thar\")\n",
    "print(car2)"
   ]
  },
  {
   "cell_type": "markdown",
   "id": "dbea14c4",
   "metadata": {},
   "source": [
    "## **Linked List**"
   ]
  },
  {
   "cell_type": "code",
   "execution_count": 12,
   "id": "24435c25",
   "metadata": {},
   "outputs": [],
   "source": [
    "class Node:\n",
    "    def __init__(self, data, next = None):\n",
    "        self.data = data\n",
    "        self.next = next\n",
    "    def __str__(self):\n",
    "        return f\"{self.data} --> {self.next}\""
   ]
  },
  {
   "cell_type": "code",
   "execution_count": 13,
   "id": "bca1e965",
   "metadata": {},
   "outputs": [
    {
     "name": "stdout",
     "output_type": "stream",
     "text": [
      "1 --> None\n",
      "2 --> None\n",
      "\n",
      "1 --> 2 --> None\n",
      "2 --> None\n",
      "\n",
      "1\n",
      "2\n",
      "\n",
      "1 --> 2 --> 3 --> 4 --> None\n"
     ]
    }
   ],
   "source": [
    "a = Node(1)\n",
    "print(a)\n",
    "\n",
    "b = Node(2)\n",
    "print(b)\n",
    "print()\n",
    "\n",
    "a.next = b\n",
    "print(a)\n",
    "print(b)\n",
    "print()\n",
    "\n",
    "print(a.data)\n",
    "print(a.next.data)\n",
    "print()\n",
    "\n",
    "head = Node(1, Node(2, Node(3, Node(4))))\n",
    "print(head)"
   ]
  },
  {
   "cell_type": "code",
   "execution_count": 14,
   "id": "623ea1df",
   "metadata": {},
   "outputs": [
    {
     "name": "stdout",
     "output_type": "stream",
     "text": [
      "1\n",
      "2\n",
      "3\n",
      "4\n"
     ]
    }
   ],
   "source": [
    "def print_linked_list(head):\n",
    "    while head:\n",
    "        print(head.data)\n",
    "        head = head.next\n",
    "        \n",
    "head = Node(1, Node(2, Node(3, Node(4))))\n",
    "print_linked_list(head)"
   ]
  },
  {
   "cell_type": "code",
   "execution_count": 15,
   "id": "c5d57359",
   "metadata": {},
   "outputs": [
    {
     "name": "stdout",
     "output_type": "stream",
     "text": [
      "4\n"
     ]
    }
   ],
   "source": [
    "def count_nodes(head):\n",
    "    count = 0\n",
    "    while head:\n",
    "        count += 1\n",
    "        head = head.next\n",
    "    return count\n",
    "\n",
    "print(count_nodes(head))"
   ]
  },
  {
   "cell_type": "code",
   "execution_count": 16,
   "id": "008777e4",
   "metadata": {},
   "outputs": [
    {
     "name": "stdout",
     "output_type": "stream",
     "text": [
      "1\n",
      "2\n",
      "3\n",
      "4\n",
      "\n",
      "1\n",
      "2\n",
      "3\n",
      "4\n",
      "5\n",
      "\n",
      "Count:  5\n"
     ]
    }
   ],
   "source": [
    "def insert_at_last(head, data):\n",
    "    if not head:\n",
    "        return Node(data)\n",
    "    ptr = head\n",
    "    while ptr.next:\n",
    "        ptr = ptr.next\n",
    "    ptr.next = Node(data)\n",
    "    return head\n",
    "print_linked_list(head)\n",
    "print()\n",
    "head = insert_at_last(head, 5)\n",
    "print_linked_list(head)\n",
    "print()\n",
    "print(\"Count: \", count_nodes(head))"
   ]
  },
  {
   "cell_type": "code",
   "execution_count": 17,
   "id": "2c51902b",
   "metadata": {},
   "outputs": [
    {
     "data": {
      "text/plain": [
       "5"
      ]
     },
     "execution_count": 17,
     "metadata": {},
     "output_type": "execute_result"
    }
   ],
   "source": [
    "count_nodes(head)"
   ]
  },
  {
   "cell_type": "code",
   "execution_count": 18,
   "id": "fabd88b1",
   "metadata": {},
   "outputs": [
    {
     "name": "stdout",
     "output_type": "stream",
     "text": [
      "1\n",
      "2\n",
      "3\n",
      "4\n",
      "5\n",
      "\n",
      "0\n",
      "1\n",
      "2\n",
      "3\n",
      "4\n",
      "5\n",
      "\n",
      "Count:  6\n"
     ]
    }
   ],
   "source": [
    "def insert_at_front(head, data):\n",
    "#     x = Node(data)\n",
    "#     x.next = head\n",
    "#     return x\n",
    "    return Node(data, head)\n",
    "\n",
    "print_linked_list(head)\n",
    "print()\n",
    "head = insert_at_front(head, 0)\n",
    "print_linked_list(head)\n",
    "print()\n",
    "print(\"Count: \", count_nodes(head))"
   ]
  },
  {
   "cell_type": "code",
   "execution_count": 21,
   "id": "3d9caec5",
   "metadata": {},
   "outputs": [
    {
     "name": "stdout",
     "output_type": "stream",
     "text": [
      "0\n",
      "1\n",
      "2\n",
      "3\n",
      "4\n",
      "5\n",
      "\n",
      "5\n",
      "4\n",
      "3\n",
      "2\n",
      "1\n",
      "0\n"
     ]
    }
   ],
   "source": [
    "def reverse_linked_list(head):\n",
    "    if not head or not head.next:\n",
    "        return head\n",
    "    prev, curr, nex = head, head.next, head.next.next\n",
    "    \n",
    "    while nex:\n",
    "        curr.next = prev\n",
    "        prev = curr\n",
    "        curr = nex\n",
    "        nex = nex.next\n",
    "    head.next = None\n",
    "    curr.next = prev\n",
    "    return curr\n",
    "\n",
    "print_linked_list(head)\n",
    "head = reverse_linked_list(head)\n",
    "print()\n",
    "print_linked_list(head)"
   ]
  },
  {
   "cell_type": "code",
   "execution_count": 22,
   "id": "438ffff6",
   "metadata": {},
   "outputs": [
    {
     "name": "stdout",
     "output_type": "stream",
     "text": [
      "0\n",
      "1\n",
      "2\n",
      "3\n",
      "4\n",
      "5\n"
     ]
    }
   ],
   "source": [
    "head = reverse_linked_list(head)\n",
    "print_linked_list(head)"
   ]
  },
  {
   "cell_type": "code",
   "execution_count": null,
   "id": "9de6e8df",
   "metadata": {},
   "outputs": [],
   "source": [
    "def remove_node(head, key):\n",
    "    if not head:\n",
    "        return None\n",
    "    if head.data == key:\n",
    "        return remove_node(head.data)\n",
    "    next_el = \n",
    "    \n",
    "    "
   ]
  },
  {
   "cell_type": "code",
   "execution_count": 59,
   "id": "c23eb776",
   "metadata": {},
   "outputs": [
    {
     "ename": "TypeError",
     "evalue": "LinkedList.print_linked_list() takes 0 positional arguments but 1 was given",
     "output_type": "error",
     "traceback": [
      "\u001b[1;31m---------------------------------------------------------------------------\u001b[0m",
      "\u001b[1;31mTypeError\u001b[0m                                 Traceback (most recent call last)",
      "Cell \u001b[1;32mIn[59], line 33\u001b[0m\n\u001b[0;32m     31\u001b[0m li\u001b[38;5;241m.\u001b[39mappend(\u001b[38;5;241m3\u001b[39m)\n\u001b[0;32m     32\u001b[0m li\u001b[38;5;241m.\u001b[39mappend(\u001b[38;5;241m4\u001b[39m)\n\u001b[1;32m---> 33\u001b[0m li\u001b[38;5;241m.\u001b[39mprint_linked_list()\n",
      "\u001b[1;31mTypeError\u001b[0m: LinkedList.print_linked_list() takes 0 positional arguments but 1 was given"
     ]
    }
   ],
   "source": [
    "class Node:\n",
    "    def __init__(self, data):\n",
    "        self.data = data\n",
    "        self.next = None\n",
    "\n",
    "class LinkedList:\n",
    "    def __init__(self):\n",
    "        self.head = None\n",
    "        self.tail = None\n",
    "    \n",
    "    def append(self, data):\n",
    "        if not self.head:\n",
    "            self.head = self.tail = Node(data)\n",
    "            \n",
    "        else:\n",
    "            temp = Node(data)\n",
    "            self.tail.next = temp\n",
    "            self.tail = temp\n",
    "            \n",
    "    def print_linked_list():\n",
    "        ptr = self.head\n",
    "        while ptr:\n",
    "            print(ptr.data, \" --> \", end = \" \")\n",
    "            ptr = ptr.next\n",
    "        return\n",
    "        \n",
    "        \n",
    "li = LinkedList()\n",
    "li.append(1)\n",
    "li.append(2)\n",
    "li.append(3)\n",
    "li.append(4)\n",
    "li.print_linked_list()"
   ]
  },
  {
   "cell_type": "code",
   "execution_count": null,
   "id": "b1d102f3",
   "metadata": {},
   "outputs": [],
   "source": []
  }
 ],
 "metadata": {
  "kernelspec": {
   "display_name": "Python 3 (ipykernel)",
   "language": "python",
   "name": "python3"
  },
  "language_info": {
   "codemirror_mode": {
    "name": "ipython",
    "version": 3
   },
   "file_extension": ".py",
   "mimetype": "text/x-python",
   "name": "python",
   "nbconvert_exporter": "python",
   "pygments_lexer": "ipython3",
   "version": "3.11.4"
  }
 },
 "nbformat": 4,
 "nbformat_minor": 5
}

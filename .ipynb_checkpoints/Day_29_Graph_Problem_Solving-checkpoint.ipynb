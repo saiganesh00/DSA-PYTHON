{
 "cells": [
  {
   "cell_type": "code",
   "execution_count": 6,
   "id": "98186ead",
   "metadata": {},
   "outputs": [],
   "source": [
    "# Number of provinces\n",
    "from collections import deque\n",
    "def number_of_provinces(adj):\n",
    "    vis = set()\n",
    "    n = len(adj)\n",
    "    count = 0\n",
    "    for i in range(n):\n",
    "        if i in vis:\n",
    "            continue\n",
    "        count += 1\n",
    "        vis.add(i)\n",
    "        q = deque([i])\n",
    "        while q:\n",
    "            ele = q.pop()\n",
    "            #print(ele, end = \" \")\n",
    "            for adjele in range(n):\n",
    "                if adj[ele][adjele] and adjele not in vis:\n",
    "                    vis.add(adjele)\n",
    "                    q.appendleft(adjele)\n",
    "    return count"
   ]
  },
  {
   "cell_type": "code",
   "execution_count": 8,
   "id": "9b28f46e",
   "metadata": {},
   "outputs": [],
   "source": [
    "def create_adj_undir(edges):\n",
    "    numOfNodes = 1 + max([e[1] for e in edges] + [e[0] for e in edges])\n",
    "    \n",
    "    adj = [[0] * numOfNodes for _ in range(numOfNodes)]\n",
    "    for e in edges:\n",
    "        adj[e[0]][e[1]] = adj[e[1]][e[0]] = 1\n",
    "    return adj"
   ]
  },
  {
   "cell_type": "code",
   "execution_count": 9,
   "id": "868bcbac",
   "metadata": {},
   "outputs": [
    {
     "data": {
      "text/plain": [
       "2"
      ]
     },
     "execution_count": 9,
     "metadata": {},
     "output_type": "execute_result"
    }
   ],
   "source": [
    "adj_undir = create_adj_undir([[0, 1], [1, 2], [1, 3], [2, 4], [3, 4], [5, 7], [7, 6]])\n",
    "number_of_provinces(adj_undir)"
   ]
  },
  {
   "cell_type": "code",
   "execution_count": 11,
   "id": "20c54866",
   "metadata": {},
   "outputs": [
    {
     "name": "stdout",
     "output_type": "stream",
     "text": [
      "Shortest distances from node 0: [0, 4, 1, 5, 3]\n"
     ]
    }
   ],
   "source": [
    "# Dijkstra's algorithm to find shortest path\n",
    "\n",
    "import heapq\n",
    "\n",
    "def dijkstra(graph, source):\n",
    "    n = len(graph)  # Number of nodes\n",
    "    dist = [float('inf')] * n  # Initialize all distances to infinity\n",
    "    dist[source] = 0  # Distance to source is 0\n",
    "    pq = [(0, source)]  # Priority queue initialized with source node\n",
    "\n",
    "    while pq:\n",
    "        current_dist, u = heapq.heappop(pq)  # Get the node with the smallest distance\n",
    "        \n",
    "        if current_dist > dist[u]:\n",
    "            continue\n",
    "\n",
    "        # Traverse all adjacent nodes\n",
    "        for v, weight in graph[u]:\n",
    "            distance = current_dist + weight  # Distance to neighbor v\n",
    "            \n",
    "            if distance < dist[v]:  # If a shorter path is found\n",
    "                dist[v] = distance  # Update distance to v\n",
    "                heapq.heappush(pq, (distance, v))  # Push updated distance to the queue\n",
    "\n",
    "    return dist\n",
    "\n",
    "# Example graph adjacency list\n",
    "graph = {\n",
    "    0: [(1, 4), (2, 1)],\n",
    "    1: [(2, 2), (3, 1)],\n",
    "    2: [(3, 5), (4, 2)],\n",
    "    3: [(4, 3)],\n",
    "    4: []\n",
    "}\n",
    "\n",
    "source = 0\n",
    "distances = dijkstra(graph, source)\n",
    "\n",
    "print(\"Shortest distances from node 0:\", distances)\n"
   ]
  },
  {
   "cell_type": "code",
   "execution_count": 12,
   "id": "8aae1926",
   "metadata": {},
   "outputs": [],
   "source": [
    "# Topological Sort\n",
    "\n",
    "def topological_sort(graph):\n",
    "    pass"
   ]
  },
  {
   "cell_type": "code",
   "execution_count": null,
   "id": "d34cf19f",
   "metadata": {},
   "outputs": [],
   "source": []
  }
 ],
 "metadata": {
  "kernelspec": {
   "display_name": "Python 3 (ipykernel)",
   "language": "python",
   "name": "python3"
  },
  "language_info": {
   "codemirror_mode": {
    "name": "ipython",
    "version": 3
   },
   "file_extension": ".py",
   "mimetype": "text/x-python",
   "name": "python",
   "nbconvert_exporter": "python",
   "pygments_lexer": "ipython3",
   "version": "3.11.4"
  }
 },
 "nbformat": 4,
 "nbformat_minor": 5
}

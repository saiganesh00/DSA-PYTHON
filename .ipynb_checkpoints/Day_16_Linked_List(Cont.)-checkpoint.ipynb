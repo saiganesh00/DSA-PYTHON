{
 "cells": [
  {
   "cell_type": "code",
   "execution_count": 3,
   "id": "98168e9f",
   "metadata": {},
   "outputs": [],
   "source": [
    "class Node:\n",
    "    def __init__(self, data):\n",
    "        self.data = data\n",
    "        self.next = None"
   ]
  },
  {
   "cell_type": "code",
   "execution_count": 16,
   "id": "8f7f2a69",
   "metadata": {},
   "outputs": [],
   "source": [
    "class LinkedList:\n",
    "    def __init__(self):\n",
    "        self.head = None\n",
    "        self.tail = None\n",
    "    \n",
    "    def append(self, data):\n",
    "        if not self.head:\n",
    "            self.head = self.tail = Node(data)\n",
    "            return\n",
    "        else:\n",
    "            temp = Node(data)\n",
    "            self.tail.next = temp\n",
    "            self.tail = temp\n",
    "            return\n",
    "    \n",
    "    def print_list(self):\n",
    "        temp = self.head\n",
    "        while temp:\n",
    "            print(temp.data, \" --> \", end = \" \")\n",
    "            temp = temp.next\n",
    "        print(None)\n",
    "        return\n",
    "    def count_nodes(self):\n",
    "        temp = self.head\n",
    "        count = 0\n",
    "        while temp:\n",
    "            temp = temp.next\n",
    "            count += 1\n",
    "        return count\n",
    "    def reverse_list(self):\n",
    "        prev_node, curr_node, next_node = self.head, self.head.next, self.head.next.next\n",
    "        while next_node:\n",
    "            curr_node.next = prev_node\n",
    "            prev_node = curr_node\n",
    "            curr_node = next_node\n",
    "            next_node = next_node.next\n",
    "        self.head.next = None\n",
    "        curr_node.next = prev_node\n",
    "        self.head = curr_node\n",
    "        return\n",
    "\n",
    "li = LinkedList()"
   ]
  },
  {
   "cell_type": "code",
   "execution_count": 17,
   "id": "ea3d4bea",
   "metadata": {},
   "outputs": [
    {
     "name": "stdout",
     "output_type": "stream",
     "text": [
      "1  -->  2  -->  3  -->  None\n",
      "3  -->  2  -->  1  -->  None\n"
     ]
    }
   ],
   "source": [
    "li.append(1)\n",
    "li.append(2)\n",
    "li.append(3)\n",
    "li.print_list()\n",
    "li.count_nodes()\n",
    "li.reverse_list()\n",
    "li.print_list()"
   ]
  },
  {
   "cell_type": "code",
   "execution_count": 148,
   "id": "4d0ef0c9",
   "metadata": {},
   "outputs": [],
   "source": [
    "class Node:\n",
    "    def __init__(self, data):\n",
    "        self.data = data\n",
    "        self.next = None\n",
    "class LinkedList:\n",
    "    def __init__(self):\n",
    "        self.head = None\n",
    "        self.tail = None\n",
    "    \n",
    "    def append(self, data):\n",
    "        if not self.head:\n",
    "            self.head = self.tail = Node(data)\n",
    "        else:\n",
    "            temp = Node(data)\n",
    "            self.tail.next = temp\n",
    "            self.tail = temp\n",
    "    \n",
    "    def print_list(self):\n",
    "        temp = self.head\n",
    "        while temp:\n",
    "            print(temp.data, \" --> \", end = \" \")\n",
    "            temp = temp.next\n",
    "        print(None)\n",
    "        return\n",
    "    \n",
    "    def count_nodes(self):\n",
    "        temp = self.head\n",
    "        count = 0\n",
    "        while temp:\n",
    "            temp = temp.next\n",
    "            count += 1\n",
    "        return count\n",
    "    \n",
    "    def reverse_list(self):\n",
    "        prev_node, curr_node, next_node = self.head, self.head.next, self.head.next.next\n",
    "        while next_node:\n",
    "            curr_node.next = prev_node\n",
    "            prev_node = curr_node\n",
    "            curr_node = next_node\n",
    "            next_node = next_node.next\n",
    "        self.head.next = None\n",
    "        curr_node.next = prev_node\n",
    "        self.head = curr_node\n",
    "        return\n",
    "    def reverse_second_half(self, head):\n",
    "        prev_node, curr_node, next_node = head, head.next, head.next.next\n",
    "        while next_node:\n",
    "            curr_node.next = prev_node\n",
    "            prev_node = curr_node\n",
    "            curr_node = next_node\n",
    "            next_node = next_node.next\n",
    "        head.next = None\n",
    "        curr_node.next = prev_node\n",
    "        head = curr_node\n",
    "        return head\n",
    "\n",
    "    def cut_in_half(self):\n",
    "        if not self.head or not self.head.next:\n",
    "            return self.head\n",
    "        slow, fast = self.head, self.head.next\n",
    "        while fast.next and fast.next.next:\n",
    "            slow = slow.next\n",
    "            fast = fast.next.next\n",
    "        if fast.next:\n",
    "            slow = slow.next\n",
    "        temp = slow.next\n",
    "        slow.next = None\n",
    "        return temp\n",
    "    \n",
    "    def reorder_list(self):\n",
    "        second_half = self.cut_in_half()\n",
    "        second_half = self.reverse_second_half(second_half)\n",
    "        ptr = self.head\n",
    "        while second_half:\n",
    "            x = second_half.next\n",
    "            second_half.next = ptr.next\n",
    "            ptr.next = second_half\n",
    "            ptr = ptr.next.next\n",
    "            second_half = x\n",
    "        return self.head\n",
    "    \n",
    "    def swap_adjacent(self, head):\n",
    "        if not head or not head:\n",
    "            return self.head\n",
    "        \n",
    "        ptr1 = head\n",
    "        ptr2 = head.next\n",
    "        x = ptr2.next\n",
    "        ptr2.next = ptr1\n",
    "        ptr1.next = self.swap_adjacent(x)\n",
    "        return ptr2\n",
    "    \n",
    "    "
   ]
  },
  {
   "cell_type": "code",
   "execution_count": 149,
   "id": "d9fbe65d",
   "metadata": {},
   "outputs": [],
   "source": [
    "li = LinkedList()"
   ]
  },
  {
   "cell_type": "code",
   "execution_count": null,
   "id": "198683dd",
   "metadata": {},
   "outputs": [],
   "source": []
  },
  {
   "cell_type": "code",
   "execution_count": 150,
   "id": "60797ee2",
   "metadata": {},
   "outputs": [],
   "source": [
    "li.append(1)\n",
    "li.append(2)\n",
    "li.append(3)\n",
    "li.append(4)\n",
    "li.append(5)"
   ]
  },
  {
   "cell_type": "code",
   "execution_count": 151,
   "id": "43bb7d99",
   "metadata": {},
   "outputs": [
    {
     "name": "stdout",
     "output_type": "stream",
     "text": [
      "1  -->  2  -->  3  -->  4  -->  5  -->  None\n"
     ]
    }
   ],
   "source": [
    "li.print_list()"
   ]
  },
  {
   "cell_type": "code",
   "execution_count": 152,
   "id": "92af0c8a",
   "metadata": {},
   "outputs": [
    {
     "data": {
      "text/plain": [
       "<__main__.Node at 0x1acde357190>"
      ]
     },
     "execution_count": 152,
     "metadata": {},
     "output_type": "execute_result"
    }
   ],
   "source": [
    "li.reorder_list()"
   ]
  },
  {
   "cell_type": "code",
   "execution_count": 153,
   "id": "659789a9",
   "metadata": {},
   "outputs": [
    {
     "name": "stdout",
     "output_type": "stream",
     "text": [
      "1  -->  5  -->  2  -->  4  -->  3  -->  None\n"
     ]
    }
   ],
   "source": [
    "li.print_list()"
   ]
  },
  {
   "cell_type": "code",
   "execution_count": 154,
   "id": "55d43ea7",
   "metadata": {},
   "outputs": [],
   "source": [
    "def add_numbers(l1, l2):\n",
    "    carry = 0\n",
    "    ans = p = Node(123)\n",
    "    while l1 and l2:\n",
    "        k = l1.data + l2.data + carry\n",
    "        carry = k // 10\n",
    "        p.next = Node(k % 10)\n",
    "        p, l1, l2 = p.next, l1.next, l2.next\n",
    "    if l2:\n",
    "        l1 = l2\n",
    "    while l1:\n",
    "        k = l1.data + carry\n",
    "        carry = k % 10\n",
    "        p.next = Node(k % 10)\n",
    "        p, l1,  = p.next, l1.next\n",
    "    if carry:\n",
    "        p.next = Node(carry)\n",
    "    return ans.next\n",
    "#     carry = 0\n",
    "#     ans = p = Node(0)\n",
    "#     while l1 or l2 or carry:\n",
    "#         k = carry\n",
    "#         if l1:\n",
    "#             k += l1.data\n",
    "#             l1 = l1.next\n",
    "#         if l2:\n",
    "#             k += l2.data\n",
    "#             l2 = l2.next\n",
    "#         carry = k // 10\n",
    "#         p.next = Node(k % 10)\n",
    "#         p = p.next\n",
    "    \n",
    "#     return ans.next\n",
    "    \n"
   ]
  },
  {
   "cell_type": "code",
   "execution_count": 155,
   "id": "1505f92f",
   "metadata": {},
   "outputs": [
    {
     "name": "stdout",
     "output_type": "stream",
     "text": [
      "7  -->  0  -->  8  -->  None\n"
     ]
    }
   ],
   "source": [
    "# Creating LinkedLists for numbers\n",
    "l1 = LinkedList()\n",
    "l1.append(2)\n",
    "l1.append(4)\n",
    "l1.append(3)\n",
    "\n",
    "l2 = LinkedList()\n",
    "l2.append(5)\n",
    "l2.append(6)\n",
    "l2.append(4)\n",
    "\n",
    "# Adding the numbers represented by the linked lists --> returns the head of result list\n",
    "result_head = add_numbers(l1.head, l2.head)  # Pass the head nodes\n",
    "\n",
    "# Printing the result\n",
    "result_list = LinkedList()\n",
    "result_list.head = result_head\n",
    "result_list.print_list()  # Output: 7 --> 0 --> 8 --> None\n"
   ]
  },
  {
   "cell_type": "code",
   "execution_count": 156,
   "id": "a32a3a8c",
   "metadata": {},
   "outputs": [
    {
     "name": "stdout",
     "output_type": "stream",
     "text": [
      "1  -->  5  -->  2  -->  4  -->  3  -->  None\n"
     ]
    }
   ],
   "source": [
    "li.print_list()"
   ]
  },
  {
   "cell_type": "code",
   "execution_count": 157,
   "id": "e349cec2",
   "metadata": {},
   "outputs": [
    {
     "ename": "AttributeError",
     "evalue": "'NoneType' object has no attribute 'next'",
     "output_type": "error",
     "traceback": [
      "\u001b[1;31m---------------------------------------------------------------------------\u001b[0m",
      "\u001b[1;31mAttributeError\u001b[0m                            Traceback (most recent call last)",
      "Cell \u001b[1;32mIn[157], line 1\u001b[0m\n\u001b[1;32m----> 1\u001b[0m li\u001b[38;5;241m.\u001b[39mswap_adjacent(li\u001b[38;5;241m.\u001b[39mhead)\n",
      "Cell \u001b[1;32mIn[148], line 90\u001b[0m, in \u001b[0;36mLinkedList.swap_adjacent\u001b[1;34m(self, head)\u001b[0m\n\u001b[0;32m     88\u001b[0m x \u001b[38;5;241m=\u001b[39m ptr2\u001b[38;5;241m.\u001b[39mnext\n\u001b[0;32m     89\u001b[0m ptr2\u001b[38;5;241m.\u001b[39mnext \u001b[38;5;241m=\u001b[39m ptr1\n\u001b[1;32m---> 90\u001b[0m ptr1\u001b[38;5;241m.\u001b[39mnext \u001b[38;5;241m=\u001b[39m \u001b[38;5;28mself\u001b[39m\u001b[38;5;241m.\u001b[39mswap_adjacent(x)\n\u001b[0;32m     91\u001b[0m \u001b[38;5;28;01mreturn\u001b[39;00m ptr2\n",
      "Cell \u001b[1;32mIn[148], line 90\u001b[0m, in \u001b[0;36mLinkedList.swap_adjacent\u001b[1;34m(self, head)\u001b[0m\n\u001b[0;32m     88\u001b[0m x \u001b[38;5;241m=\u001b[39m ptr2\u001b[38;5;241m.\u001b[39mnext\n\u001b[0;32m     89\u001b[0m ptr2\u001b[38;5;241m.\u001b[39mnext \u001b[38;5;241m=\u001b[39m ptr1\n\u001b[1;32m---> 90\u001b[0m ptr1\u001b[38;5;241m.\u001b[39mnext \u001b[38;5;241m=\u001b[39m \u001b[38;5;28mself\u001b[39m\u001b[38;5;241m.\u001b[39mswap_adjacent(x)\n\u001b[0;32m     91\u001b[0m \u001b[38;5;28;01mreturn\u001b[39;00m ptr2\n",
      "Cell \u001b[1;32mIn[148], line 88\u001b[0m, in \u001b[0;36mLinkedList.swap_adjacent\u001b[1;34m(self, head)\u001b[0m\n\u001b[0;32m     86\u001b[0m ptr1 \u001b[38;5;241m=\u001b[39m head\n\u001b[0;32m     87\u001b[0m ptr2 \u001b[38;5;241m=\u001b[39m head\u001b[38;5;241m.\u001b[39mnext\n\u001b[1;32m---> 88\u001b[0m x \u001b[38;5;241m=\u001b[39m ptr2\u001b[38;5;241m.\u001b[39mnext\n\u001b[0;32m     89\u001b[0m ptr2\u001b[38;5;241m.\u001b[39mnext \u001b[38;5;241m=\u001b[39m ptr1\n\u001b[0;32m     90\u001b[0m ptr1\u001b[38;5;241m.\u001b[39mnext \u001b[38;5;241m=\u001b[39m \u001b[38;5;28mself\u001b[39m\u001b[38;5;241m.\u001b[39mswap_adjacent(x)\n",
      "\u001b[1;31mAttributeError\u001b[0m: 'NoneType' object has no attribute 'next'"
     ]
    }
   ],
   "source": [
    "li.swap_adjacent(li.head)"
   ]
  },
  {
   "cell_type": "code",
   "execution_count": null,
   "id": "a42d12a6",
   "metadata": {},
   "outputs": [],
   "source": []
  },
  {
   "cell_type": "code",
   "execution_count": null,
   "id": "eede5973",
   "metadata": {},
   "outputs": [],
   "source": []
  }
 ],
 "metadata": {
  "kernelspec": {
   "display_name": "Python 3 (ipykernel)",
   "language": "python",
   "name": "python3"
  },
  "language_info": {
   "codemirror_mode": {
    "name": "ipython",
    "version": 3
   },
   "file_extension": ".py",
   "mimetype": "text/x-python",
   "name": "python",
   "nbconvert_exporter": "python",
   "pygments_lexer": "ipython3",
   "version": "3.11.4"
  }
 },
 "nbformat": 4,
 "nbformat_minor": 5
}

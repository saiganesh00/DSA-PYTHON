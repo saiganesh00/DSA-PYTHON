{
 "cells": [
  {
   "cell_type": "markdown",
   "id": "203ee8d6",
   "metadata": {},
   "source": [
    "### **Kadane's Algorithm**"
   ]
  },
  {
   "cell_type": "code",
   "execution_count": 12,
   "id": "cdc487b9",
   "metadata": {},
   "outputs": [
    {
     "name": "stdout",
     "output_type": "stream",
     "text": [
      "79\n"
     ]
    }
   ],
   "source": [
    "# Maximum Subarray i.e., sub array with largest sum\n",
    "\n",
    "def max_sub_array_sum(nums):\n",
    "    curr_sum = 0\n",
    "    max_sum = -100000\n",
    "    \n",
    "    for val in nums:\n",
    "        curr_sum += val\n",
    "        # max_sum = max(max_sum, curr_sum) --> Slow\n",
    "        if curr_sum > max_sum:\n",
    "            max_sum = curr_sum\n",
    "        if curr_sum < 0:\n",
    "            curr_sum = 0\n",
    "    return max_sum\n",
    "    \n",
    "\n",
    "\n",
    "nums = [2, 1, 4, 7, -13, -20, 23, 27, 29]\n",
    "print(max_sub_array_sum(nums))"
   ]
  },
  {
   "cell_type": "code",
   "execution_count": 13,
   "id": "db2b7d0b",
   "metadata": {},
   "outputs": [
    {
     "name": "stdout",
     "output_type": "stream",
     "text": [
      "-1\n"
     ]
    }
   ],
   "source": [
    "nums = [-10, -1, -15]\n",
    "print(max_sub_array_sum(nums))"
   ]
  },
  {
   "cell_type": "code",
   "execution_count": 14,
   "id": "9e99555a",
   "metadata": {},
   "outputs": [
    {
     "data": {
      "text/plain": [
       "1024"
      ]
     },
     "execution_count": 14,
     "metadata": {},
     "output_type": "execute_result"
    }
   ],
   "source": [
    "# Power(x, n)\n",
    "\n",
    "def myPow(x, n):\n",
    "    if n == 0:\n",
    "        return 1\n",
    "    ans = x\n",
    "    abs_n = abs(n)\n",
    "    for i in range(abs_n - 1):\n",
    "        ans = ans * x\n",
    "        if n < 0:\n",
    "            return 1 / ans\n",
    "    return ans\n",
    "\n",
    "myPow(2, 10)"
   ]
  },
  {
   "cell_type": "code",
   "execution_count": 16,
   "id": "12ce854e",
   "metadata": {},
   "outputs": [
    {
     "data": {
      "text/plain": [
       "0.25"
      ]
     },
     "execution_count": 16,
     "metadata": {},
     "output_type": "execute_result"
    }
   ],
   "source": [
    "myPow(2, -2)"
   ]
  },
  {
   "cell_type": "code",
   "execution_count": 18,
   "id": "2aefbee5",
   "metadata": {},
   "outputs": [
    {
     "name": "stdout",
     "output_type": "stream",
     "text": [
      "1024.0\n",
      "0.5\n"
     ]
    }
   ],
   "source": [
    "# Using Recursion\n",
    "\n",
    "def myPow(x, n):\n",
    "    \n",
    "    \n",
    "    # base condition\n",
    "    if n == 0:\n",
    "        return 1.0000\n",
    "    \n",
    "#     if n == 1:\n",
    "#         return 1 / x if is_n_neg else x\n",
    "\n",
    "    # Flags intialization\n",
    "    is_x_neg, is_n_neg = x < 0, n < 0\n",
    "    x, n = abs(x), abs(n)\n",
    "    \n",
    "    # Original algo\n",
    "    half_answer = myPow(x, n // 2)\n",
    "    ans = 0\n",
    "    if n % 2 == 1:\n",
    "        ans = half_answer * half_answer * x\n",
    "    else:\n",
    "        ans = half_answer * half_answer\n",
    "        \n",
    "    # Flag checks\n",
    "    if is_x_neg and n % 2 == 1:\n",
    "        ans = -ans\n",
    "    if is_n_neg:\n",
    "        ans = 1 / ans\n",
    "    return ans\n",
    "\n",
    "print(myPow(2, 10))\n",
    "print(myPow(2, -1))"
   ]
  },
  {
   "cell_type": "code",
   "execution_count": 30,
   "id": "f208a81b",
   "metadata": {},
   "outputs": [
    {
     "name": "stdout",
     "output_type": "stream",
     "text": [
      "1 2 3 4 \n",
      "5 6 7 8 \n",
      "9 10 11 12 \n",
      "13 14 15 16 \n",
      "\n",
      "13 9 5 1 \n",
      "14 10 6 2 \n",
      "15 11 7 3 \n",
      "16 12 8 4 \n"
     ]
    }
   ],
   "source": [
    "# Rotate Image\n",
    "\n",
    "def rotate_matrix(matrix):\n",
    "    for row in matrix:\n",
    "        row.reverse()\n",
    "    n = len(matrix)\n",
    "    for i in range(n):\n",
    "        for j in range(n - i):\n",
    "            matrix[i][j], matrix[n - j -1][n - i - 1] = matrix[n - j - 1][n - i - 1], matrix[i][j]\n",
    "    return\n",
    "\n",
    "nums = [[1, 2, 3, 4], [5, 6, 7, 8], [9, 10, 11, 12], [13, 14, 15, 16]]\n",
    "for i in range(len(nums)):\n",
    "    for j in range(len(nums[0])):\n",
    "        print(nums[i][j], end = \" \")\n",
    "    print()\n",
    "rotate_matrix(nums)\n",
    "print()\n",
    "for i in range(len(nums)):\n",
    "    for j in range(len(nums[0])):\n",
    "        print(nums[i][j], end = \" \")\n",
    "    print() \n",
    "    "
   ]
  },
  {
   "cell_type": "code",
   "execution_count": 31,
   "id": "108c9cca",
   "metadata": {},
   "outputs": [
    {
     "name": "stdout",
     "output_type": "stream",
     "text": [
      "4\n"
     ]
    }
   ],
   "source": [
    "# Missing Number\n",
    "\n",
    "def missing_number(n, arr):\n",
    "    \n",
    "    return n * (n + 1) // 2 - sum(arr)\n",
    "    \n",
    "nums = [0, 5, 2, 3, 1]\n",
    "print(missing_number(len(nums), nums))"
   ]
  },
  {
   "cell_type": "code",
   "execution_count": 32,
   "id": "795797d0",
   "metadata": {},
   "outputs": [
    {
     "name": "stdout",
     "output_type": "stream",
     "text": [
      "4\n"
     ]
    }
   ],
   "source": [
    "def missing_number(n, arr):\n",
    "    ans = 0\n",
    "    for i in range(n+1):\n",
    "        ans = ans ^ i\n",
    "    for val in arr:\n",
    "        ans = ans ^ val\n",
    "    return ans\n",
    "\n",
    "nums = [0, 5, 2, 3, 1]\n",
    "print(missing_number(len(nums), nums))"
   ]
  },
  {
   "cell_type": "code",
   "execution_count": null,
   "id": "60a16176",
   "metadata": {},
   "outputs": [],
   "source": []
  }
 ],
 "metadata": {
  "kernelspec": {
   "display_name": "Python 3 (ipykernel)",
   "language": "python",
   "name": "python3"
  },
  "language_info": {
   "codemirror_mode": {
    "name": "ipython",
    "version": 3
   },
   "file_extension": ".py",
   "mimetype": "text/x-python",
   "name": "python",
   "nbconvert_exporter": "python",
   "pygments_lexer": "ipython3",
   "version": "3.11.4"
  }
 },
 "nbformat": 4,
 "nbformat_minor": 5
}

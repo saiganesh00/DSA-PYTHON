{
 "cells": [
  {
   "cell_type": "markdown",
   "id": "5ccad9b6",
   "metadata": {},
   "source": [
    "### **Binary Search Trees**"
   ]
  },
  {
   "cell_type": "code",
   "execution_count": 1,
   "id": "5966ec25",
   "metadata": {},
   "outputs": [],
   "source": [
    "# validate binary search tree\n",
    "\n",
    "prev = None\n",
    "\n",
    "def func(root):\n",
    "    if root:\n",
    "        if func(root.left):\n",
    "            return False\n",
    "        global prev\n",
    "        if prev >= root.data:\n",
    "            return False\n",
    "        prev = root.data\n",
    "        if not func(root.right):\n",
    "            return False\n",
    "        return True\n",
    "    return True\n",
    "def validate_bst(root):\n",
    "    global prev\n",
    "    prev = -(2 << 31 + 1)\n",
    "    \n",
    "    return True if func(root) else False"
   ]
  },
  {
   "cell_type": "code",
   "execution_count": null,
   "id": "6d3a21c1",
   "metadata": {},
   "outputs": [],
   "source": [
    "# Two Sum - BST\n",
    "\n",
    "def dll(root):\n",
    "    if not root:\n",
    "        return None, None\n",
    "    \n",
    "    lh, lt = dll(root.left)\n",
    "    rh, rt = dll(root.right)\n",
    "    if lh:\n",
    "        l = lh\n",
    "        lt.right = root\n",
    "        root.left = lt\n",
    "    else:\n",
    "        l = root\n",
    "    if rh:\n",
    "        r = rt\n",
    "        root.right = rh\n",
    "        rh.left = root\n",
    "    else:\n",
    "        r = root\n",
    "    return l, r\n",
    "    \n",
    "def find_target_sum(root, k):\n",
    "    l, r = dll(root)\n",
    "    while l.data != r.data:\n",
    "        sum = l.val + r.val\n",
    "        if sum > k:\n",
    "            r = r.left\n",
    "        elif sum < k:\n",
    "            l = l.right\n",
    "        else:\n",
    "            return True\n",
    "    return False"
   ]
  }
 ],
 "metadata": {
  "kernelspec": {
   "display_name": "Python 3 (ipykernel)",
   "language": "python",
   "name": "python3"
  },
  "language_info": {
   "codemirror_mode": {
    "name": "ipython",
    "version": 3
   },
   "file_extension": ".py",
   "mimetype": "text/x-python",
   "name": "python",
   "nbconvert_exporter": "python",
   "pygments_lexer": "ipython3",
   "version": "3.11.4"
  }
 },
 "nbformat": 4,
 "nbformat_minor": 5
}

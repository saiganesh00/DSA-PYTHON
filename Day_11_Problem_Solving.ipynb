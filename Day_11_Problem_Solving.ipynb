{
 "cells": [
  {
   "cell_type": "code",
   "execution_count": 4,
   "id": "340c0f95",
   "metadata": {},
   "outputs": [
    {
     "name": "stdout",
     "output_type": "stream",
     "text": [
      "49\n"
     ]
    }
   ],
   "source": [
    "# Container with most water\n",
    "\n",
    "def container_with_most_water(n, arr):\n",
    "    max_water = 0\n",
    "    l = 0\n",
    "    r = n - 1\n",
    "    \n",
    "    while l < r:\n",
    "        hl, hr = arr[l], arr[r]\n",
    "        curr_water = min(hl, hr) * (r - l)\n",
    "        if curr_water > max_water:\n",
    "            max_water = curr_water\n",
    "        if hl <= hr:\n",
    "            l += 1\n",
    "        if hr <= hl:\n",
    "            r -= 1\n",
    "    return max_water\n",
    "\n",
    "\n",
    "nums = [1, 8, 6, 2, 5, 4, 8, 3, 7]\n",
    "print(container_with_most_water(len(nums), nums))"
   ]
  },
  {
   "cell_type": "code",
   "execution_count": 5,
   "id": "e0eed027",
   "metadata": {},
   "outputs": [],
   "source": [
    "# Set Matrix 0\n",
    "\n",
    "# Approach - 1\n",
    "def set_matrix_zero(n, arr):\n",
    "    ans = [[1] * n] * n\n",
    "    \n",
    "    for i in range():\n",
    "        pass"
   ]
  },
  {
   "cell_type": "code",
   "execution_count": 6,
   "id": "f124baba",
   "metadata": {},
   "outputs": [],
   "source": [
    "# Approach -2 --> creating separate sets for rows and colums for zeroes\n",
    "\n"
   ]
  },
  {
   "cell_type": "code",
   "execution_count": 10,
   "id": "817a0e78",
   "metadata": {},
   "outputs": [
    {
     "name": "stdout",
     "output_type": "stream",
     "text": [
      "[[0, 1, 2, 0], [3, 4, 5, 2], [1, 3, 1, 5]]\n",
      "[[0, 0, 0, 0], [0, 4, 5, 0], [0, 3, 1, 0]]\n"
     ]
    }
   ],
   "source": [
    "def set_matrix_zero(arr):\n",
    "    m, n = len(arr), len(arr[0])\n",
    "    r, c = False, False\n",
    "    \n",
    "    for j in range(n):\n",
    "        if arr[0][j] == 0:\n",
    "            r = True\n",
    "            break\n",
    "    for i in range(m):\n",
    "        if arr[i][0] == 0:\n",
    "            c = True\n",
    "            break\n",
    "    for i in range(m):\n",
    "        for j in range(n):\n",
    "            if arr[i][j] == 0:\n",
    "                arr[i][0] = 0\n",
    "                arr[0][j] = 0\n",
    "    for i in range(1, m):\n",
    "        if arr[i][0] == 0:\n",
    "            for j in range(1, n):\n",
    "                arr[i][j] = 0\n",
    "    for j in range(1, n):\n",
    "        if arr[0][j] == 0:\n",
    "            for i in range(1, m):\n",
    "                arr[i][j] = 0 \n",
    "    if c:\n",
    "        for i in range(m):\n",
    "            arr[i][0] = 0\n",
    "    if r:\n",
    "        for i in range(n):\n",
    "            arr[0][i] = 0\n",
    "    return arr\n",
    "\n",
    "nums = [[0, 1, 2, 0], [3, 4, 5, 2], [1, 3, 1, 5]]\n",
    "print(nums)\n",
    "print(set_matrix_zero(nums))"
   ]
  },
  {
   "cell_type": "code",
   "execution_count": 12,
   "id": "dd3bf88b",
   "metadata": {},
   "outputs": [
    {
     "name": "stdout",
     "output_type": "stream",
     "text": [
      "[[1, 5]]\n"
     ]
    }
   ],
   "source": [
    "# Merge Intervals\n",
    "def merge_intervals(intervals):\n",
    "    intervals = sorted(intervals, key = lambda x : x[0])\n",
    "    ans = []\n",
    "    current_interval = intervals[0]\n",
    "    for next_interval in intervals[1: ]:\n",
    "        if current_interval[1] >= next_interval[0]:\n",
    "            if current_interval[1] < next_interval[1]:\n",
    "                current_interval[1] = next_interval[1]\n",
    "        else:\n",
    "            ans.append(current_interval)\n",
    "            current_interval = next_interval\n",
    "    ans.append(current_interval)\n",
    "    return ans    \n",
    "    \n",
    "\n",
    "intervals = [[2, 2], [1, 4], [4, 5]]\n",
    "print(merge_intervals(intervals))"
   ]
  },
  {
   "cell_type": "code",
   "execution_count": null,
   "id": "b51a86bf",
   "metadata": {},
   "outputs": [],
   "source": []
  }
 ],
 "metadata": {
  "kernelspec": {
   "display_name": "Python 3 (ipykernel)",
   "language": "python",
   "name": "python3"
  },
  "language_info": {
   "codemirror_mode": {
    "name": "ipython",
    "version": 3
   },
   "file_extension": ".py",
   "mimetype": "text/x-python",
   "name": "python",
   "nbconvert_exporter": "python",
   "pygments_lexer": "ipython3",
   "version": "3.11.4"
  }
 },
 "nbformat": 4,
 "nbformat_minor": 5
}

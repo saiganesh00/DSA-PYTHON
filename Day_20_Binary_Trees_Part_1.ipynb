{
 "cells": [
  {
   "cell_type": "markdown",
   "id": "68d9cedd",
   "metadata": {},
   "source": [
    "### **Binary Trees**"
   ]
  },
  {
   "cell_type": "code",
   "execution_count": 45,
   "id": "e587458d",
   "metadata": {},
   "outputs": [],
   "source": [
    "from collections import deque"
   ]
  },
  {
   "cell_type": "code",
   "execution_count": 46,
   "id": "582369ce",
   "metadata": {},
   "outputs": [],
   "source": [
    "class TreeNode:\n",
    "    def __init__(self, data, left = None, right = None):\n",
    "        self.data = data\n",
    "        self.left = left\n",
    "        self.right = right"
   ]
  },
  {
   "cell_type": "code",
   "execution_count": 47,
   "id": "3a53eb9e",
   "metadata": {},
   "outputs": [],
   "source": [
    "root = TreeNode(2, \n",
    "                TreeNode(3, TreeNode(5), TreeNode(6)), \n",
    "                TreeNode(4, TreeNode(7)))"
   ]
  },
  {
   "cell_type": "code",
   "execution_count": 48,
   "id": "58209a5c",
   "metadata": {},
   "outputs": [],
   "source": [
    "def sum_all_nodes(root):\n",
    "    if root:\n",
    "        return root.data + sum_all_node(root.left) + sum_all_node(root.right)\n",
    "    return 0"
   ]
  },
  {
   "cell_type": "code",
   "execution_count": 49,
   "id": "813b48db",
   "metadata": {},
   "outputs": [
    {
     "name": "stdout",
     "output_type": "stream",
     "text": [
      "27\n"
     ]
    }
   ],
   "source": [
    "sm = sum_all_nodes(root)\n",
    "print(sm)"
   ]
  },
  {
   "cell_type": "code",
   "execution_count": 50,
   "id": "0b7e66bf",
   "metadata": {},
   "outputs": [],
   "source": [
    "def sum_leaf_nodes(root):\n",
    "    if root:\n",
    "        if root.left or root.right:\n",
    "            return sum_leaf_nodes(root.left) + sum_leaf_nodes(root.right)\n",
    "        return root.data\n",
    "    return 0"
   ]
  },
  {
   "cell_type": "code",
   "execution_count": 51,
   "id": "361ac9c7",
   "metadata": {},
   "outputs": [
    {
     "name": "stdout",
     "output_type": "stream",
     "text": [
      "18\n"
     ]
    }
   ],
   "source": [
    "sm_leaf = sum_leaf_nodes(root)\n",
    "print(sm_leaf)"
   ]
  },
  {
   "cell_type": "code",
   "execution_count": 52,
   "id": "7d50183e",
   "metadata": {},
   "outputs": [],
   "source": [
    "def print_leaf(root):\n",
    "    if root:\n",
    "        if not root.left and not root.right:\n",
    "            print(root.data)\n",
    "        print_leaf(root.left)\n",
    "        print_leaf(root.right)"
   ]
  },
  {
   "cell_type": "code",
   "execution_count": 53,
   "id": "af4bf5a4",
   "metadata": {},
   "outputs": [
    {
     "name": "stdout",
     "output_type": "stream",
     "text": [
      "5\n",
      "6\n",
      "7\n"
     ]
    }
   ],
   "source": [
    "print_leaf(root)"
   ]
  },
  {
   "cell_type": "code",
   "execution_count": 54,
   "id": "019d1343",
   "metadata": {},
   "outputs": [],
   "source": [
    "def check_same_tree(root1, root2):\n",
    "    if (root1 and not root2) or (root2 and not root1):\n",
    "        return False\n",
    "    if not root1 and not root2:\n",
    "        return True\n",
    "    return True if root1.data == root2.data and check_same_tree(root1.left, root2.left) and check_same_tree(root1.right, root2.right) else False\n",
    "        "
   ]
  },
  {
   "cell_type": "code",
   "execution_count": 55,
   "id": "2a531ceb",
   "metadata": {},
   "outputs": [],
   "source": [
    "root1 = TreeNode(2, \n",
    "                TreeNode(3, TreeNode(5), TreeNode(6)), \n",
    "                TreeNode(4, TreeNode(7)))"
   ]
  },
  {
   "cell_type": "code",
   "execution_count": 56,
   "id": "08838a35",
   "metadata": {},
   "outputs": [],
   "source": [
    "root2 = TreeNode(2, \n",
    "                TreeNode(3, TreeNode(5), TreeNode(6)), \n",
    "                TreeNode(4, TreeNode(7)))"
   ]
  },
  {
   "cell_type": "code",
   "execution_count": 57,
   "id": "42b530ec",
   "metadata": {},
   "outputs": [
    {
     "name": "stdout",
     "output_type": "stream",
     "text": [
      "True\n"
     ]
    }
   ],
   "source": [
    "print(check_same_tree(root1, root2))"
   ]
  },
  {
   "cell_type": "code",
   "execution_count": 58,
   "id": "8c2614f5",
   "metadata": {},
   "outputs": [],
   "source": [
    "def invert_binary_tree(root):\n",
    "    if root:\n",
    "        invert_binary_tree(root.left)\n",
    "        invert_binary_tree(root.right)\n",
    "        root.left, root.right = root.right, root.left\n",
    "    return root"
   ]
  },
  {
   "cell_type": "code",
   "execution_count": 59,
   "id": "4162788b",
   "metadata": {},
   "outputs": [
    {
     "name": "stdout",
     "output_type": "stream",
     "text": [
      "5\n",
      "6\n",
      "7\n"
     ]
    }
   ],
   "source": [
    "print_leaf(root1)"
   ]
  },
  {
   "cell_type": "code",
   "execution_count": 60,
   "id": "e9bb68c1",
   "metadata": {},
   "outputs": [
    {
     "data": {
      "text/plain": [
       "<__main__.TreeNode at 0x20930203690>"
      ]
     },
     "execution_count": 60,
     "metadata": {},
     "output_type": "execute_result"
    }
   ],
   "source": [
    "invert_binary_tree(root1)"
   ]
  },
  {
   "cell_type": "code",
   "execution_count": 61,
   "id": "d857ed7c",
   "metadata": {},
   "outputs": [
    {
     "name": "stdout",
     "output_type": "stream",
     "text": [
      "7\n",
      "6\n",
      "5\n"
     ]
    }
   ],
   "source": [
    "print_leaf(root1)"
   ]
  },
  {
   "cell_type": "code",
   "execution_count": 65,
   "id": "778d7aa7",
   "metadata": {},
   "outputs": [],
   "source": [
    "def func(root, sm):\n",
    "    if root:\n",
    "        ans = (2 * sm) + root.data\n",
    "        if not root.left and not root.right:\n",
    "            return ans\n",
    "        return func(root.left, ans) + func(root.right, ans)\n",
    "def sum_of_binary_from_root_to_leaf(root):\n",
    "    return func(root, 0)"
   ]
  },
  {
   "cell_type": "code",
   "execution_count": 66,
   "id": "3e7b3ebe",
   "metadata": {},
   "outputs": [],
   "source": [
    "root = TreeNode(1, \n",
    "                TreeNode(0, TreeNode(0), TreeNode(1)), \n",
    "                TreeNode(1, TreeNode(0), TreeNode(1)))"
   ]
  },
  {
   "cell_type": "code",
   "execution_count": 67,
   "id": "7e0824ca",
   "metadata": {},
   "outputs": [
    {
     "name": "stdout",
     "output_type": "stream",
     "text": [
      "22\n"
     ]
    }
   ],
   "source": [
    "print(sum_of_binary_from_root_to_leaf(root))"
   ]
  },
  {
   "cell_type": "code",
   "execution_count": null,
   "id": "c02ddcf3",
   "metadata": {},
   "outputs": [],
   "source": []
  }
 ],
 "metadata": {
  "kernelspec": {
   "display_name": "Python 3 (ipykernel)",
   "language": "python",
   "name": "python3"
  },
  "language_info": {
   "codemirror_mode": {
    "name": "ipython",
    "version": 3
   },
   "file_extension": ".py",
   "mimetype": "text/x-python",
   "name": "python",
   "nbconvert_exporter": "python",
   "pygments_lexer": "ipython3",
   "version": "3.11.4"
  }
 },
 "nbformat": 4,
 "nbformat_minor": 5
}

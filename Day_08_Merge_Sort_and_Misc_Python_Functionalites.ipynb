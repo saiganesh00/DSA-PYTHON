{
 "cells": [
  {
   "cell_type": "markdown",
   "id": "84f0c55e",
   "metadata": {},
   "source": [
    "### **Merge Sort**"
   ]
  },
  {
   "cell_type": "code",
   "execution_count": 2,
   "id": "3e19b03b",
   "metadata": {},
   "outputs": [
    {
     "name": "stdout",
     "output_type": "stream",
     "text": [
      "Enter the Array Elements5 4 3 2 1\n",
      "[5, 4, 3, 2, 1]\n",
      "[1, 2, 3, 4, 5]\n"
     ]
    }
   ],
   "source": [
    "def merge_sort(arr):\n",
    "    if len(arr) > 1:\n",
    "        mid = len(arr) // 2\n",
    "        left_arr = arr[:mid]\n",
    "        right_arr = arr[mid:]\n",
    "        merge_sort(left_arr)\n",
    "        merge_sort(right_arr)\n",
    "        \n",
    "        lptr = rptr = arrptr = 0\n",
    "        while lptr < len(left_arr)  and rptr < len(right_arr):\n",
    "            if left_arr[lptr] < right_arr[rptr]:\n",
    "                arr[arrptr] = left_arr[lptr]\n",
    "                lptr += 1\n",
    "            else:\n",
    "                arr[arrptr] = right_arr[rptr]\n",
    "                rptr += 1\n",
    "            arrptr += 1\n",
    "        \n",
    "        while lptr < len(left_arr):\n",
    "            arr[arrptr] = left_arr[lptr]\n",
    "            lptr += 1\n",
    "            arrptr += 1\n",
    "        while rptr < len(right_arr):\n",
    "            arr[arrptr] = right_arr[rptr]\n",
    "            rptr += 1\n",
    "            arrptr += 1\n",
    "\n",
    "li = list(map(int, input(\"Enter the Array Elements\").split()))\n",
    "print(li)\n",
    "merge_sort(li)\n",
    "print(li)"
   ]
  },
  {
   "cell_type": "markdown",
   "id": "def4a748",
   "metadata": {},
   "source": [
    "### **Misc Functions**"
   ]
  },
  {
   "cell_type": "code",
   "execution_count": 3,
   "id": "f0c8b9a9",
   "metadata": {},
   "outputs": [],
   "source": [
    "a = [1 ,2, 3, 4, 5]\n",
    "b = [0, 9, 8, 7, 6, 5, 4, 3, 2, 1]"
   ]
  },
  {
   "cell_type": "code",
   "execution_count": 4,
   "id": "fb4ab35d",
   "metadata": {},
   "outputs": [
    {
     "data": {
      "text/plain": [
       "[(1, 0), (2, 9), (3, 8), (4, 7), (5, 6)]"
      ]
     },
     "execution_count": 4,
     "metadata": {},
     "output_type": "execute_result"
    }
   ],
   "source": [
    "list(zip(a, b))"
   ]
  },
  {
   "cell_type": "code",
   "execution_count": 5,
   "id": "e53feead",
   "metadata": {},
   "outputs": [
    {
     "name": "stdout",
     "output_type": "stream",
     "text": [
      "1 0\n",
      "2 9\n",
      "3 8\n",
      "4 7\n",
      "5 6\n"
     ]
    }
   ],
   "source": [
    "for x, y in zip(a, b):\n",
    "    print(x, y)"
   ]
  },
  {
   "cell_type": "code",
   "execution_count": 7,
   "id": "3d8d1031",
   "metadata": {},
   "outputs": [
    {
     "name": "stdout",
     "output_type": "stream",
     "text": [
      "0 1\n",
      "1 2\n",
      "2 3\n",
      "3 4\n",
      "4 5\n"
     ]
    }
   ],
   "source": [
    "for ind, ele in enumerate(a):\n",
    "    print(ind, ele)"
   ]
  },
  {
   "cell_type": "code",
   "execution_count": 8,
   "id": "43a674b6",
   "metadata": {},
   "outputs": [
    {
     "name": "stdout",
     "output_type": "stream",
     "text": [
      "0 0\n",
      "1 9\n",
      "2 8\n",
      "3 7\n",
      "4 6\n",
      "5 5\n",
      "6 4\n",
      "7 3\n",
      "8 2\n",
      "9 1\n"
     ]
    }
   ],
   "source": [
    "for ind, ele in enumerate(b):\n",
    "    print(ind, ele)"
   ]
  },
  {
   "cell_type": "code",
   "execution_count": 13,
   "id": "719d29f1",
   "metadata": {},
   "outputs": [
    {
     "name": "stdout",
     "output_type": "stream",
     "text": [
      "(0, 0)\n",
      "(1, 9)\n",
      "(2, 8)\n",
      "(3, 7)\n",
      "(4, 6)\n",
      "(5, 5)\n",
      "(6, 4)\n",
      "(7, 3)\n",
      "(8, 2)\n",
      "(9, 1)\n"
     ]
    }
   ],
   "source": [
    "for x in enumerate(b):\n",
    "    print(x)"
   ]
  },
  {
   "cell_type": "code",
   "execution_count": 14,
   "id": "d2f135fa",
   "metadata": {},
   "outputs": [
    {
     "data": {
      "text/plain": [
       "[(0, 0),\n",
       " (1, 9),\n",
       " (2, 8),\n",
       " (3, 7),\n",
       " (4, 6),\n",
       " (5, 5),\n",
       " (6, 4),\n",
       " (7, 3),\n",
       " (8, 2),\n",
       " (9, 1)]"
      ]
     },
     "execution_count": 14,
     "metadata": {},
     "output_type": "execute_result"
    }
   ],
   "source": [
    "list(enumerate(b))"
   ]
  },
  {
   "cell_type": "code",
   "execution_count": 15,
   "id": "a0654868",
   "metadata": {},
   "outputs": [
    {
     "name": "stdout",
     "output_type": "stream",
     "text": [
      "[0, 1, 2, 3, 4, 5, 6, 7, 8, 9]\n"
     ]
    }
   ],
   "source": [
    "print(sorted(b))"
   ]
  },
  {
   "cell_type": "code",
   "execution_count": 16,
   "id": "20bfa9d3",
   "metadata": {},
   "outputs": [
    {
     "name": "stdout",
     "output_type": "stream",
     "text": [
      "[0, 9, 8, 7, 6, 5, 4, 3, 2, 1]\n"
     ]
    }
   ],
   "source": [
    "print(b)"
   ]
  },
  {
   "cell_type": "code",
   "execution_count": 17,
   "id": "f32f5f35",
   "metadata": {},
   "outputs": [
    {
     "name": "stdout",
     "output_type": "stream",
     "text": [
      "[[-1, 8], [1, 3], [2, 1], [3, 5], [4, 7]]\n"
     ]
    }
   ],
   "source": [
    "c = [\n",
    "    [1, 3],\n",
    "    [4, 7],\n",
    "    [-1, 8],\n",
    "    [3, 5],\n",
    "    [2, 1]\n",
    "]\n",
    "\n",
    "print(sorted(c))"
   ]
  },
  {
   "cell_type": "code",
   "execution_count": 18,
   "id": "1c8ddcf4",
   "metadata": {},
   "outputs": [
    {
     "name": "stdout",
     "output_type": "stream",
     "text": [
      "[1, 2, 3, 4, 5]\n"
     ]
    }
   ],
   "source": [
    "x = sorted(a)\n",
    "print(x)"
   ]
  },
  {
   "cell_type": "code",
   "execution_count": 19,
   "id": "0127aa4b",
   "metadata": {},
   "outputs": [
    {
     "name": "stdout",
     "output_type": "stream",
     "text": [
      "[[2, 1], [1, 3], [3, 5], [4, 7], [-1, 8]]\n"
     ]
    }
   ],
   "source": [
    "def f(p):\n",
    "    return p[1]\n",
    "\n",
    "y = sorted(c, key = f)\n",
    "print(y)"
   ]
  },
  {
   "cell_type": "code",
   "execution_count": 21,
   "id": "765891d5",
   "metadata": {},
   "outputs": [
    {
     "name": "stdout",
     "output_type": "stream",
     "text": [
      "['111111111', 'abc', 'def', 'xyz']\n",
      "['abc', 'def', 'xyz', '111111111']\n"
     ]
    }
   ],
   "source": [
    "st = ['111111111', 'abc', 'def', 'xyz']\n",
    "print(sorted(st))\n",
    "print(sorted(st, key = len))"
   ]
  },
  {
   "cell_type": "code",
   "execution_count": 20,
   "id": "1b53ad6a",
   "metadata": {},
   "outputs": [
    {
     "name": "stdout",
     "output_type": "stream",
     "text": [
      "180\n"
     ]
    }
   ],
   "source": [
    "# One Liner Functions\n",
    "\n",
    "x = lambda a, b: a * b\n",
    "print(x(12, 15))"
   ]
  },
  {
   "cell_type": "code",
   "execution_count": 22,
   "id": "bf96fa3b",
   "metadata": {},
   "outputs": [
    {
     "name": "stdout",
     "output_type": "stream",
     "text": [
      "[1, 0, 0, 1, 1, 1, 0]\n",
      "[True, False, False, True, True, True, False]\n"
     ]
    }
   ],
   "source": [
    "a = [1, 0, 0, 1, 1, 1, 0]\n",
    "b = [bool(x) for x in a]\n",
    "print(a)\n",
    "print(b)"
   ]
  },
  {
   "cell_type": "code",
   "execution_count": 23,
   "id": "742b6a89",
   "metadata": {},
   "outputs": [
    {
     "name": "stdout",
     "output_type": "stream",
     "text": [
      "True\n",
      "True\n"
     ]
    }
   ],
   "source": [
    "print(any(a))\n",
    "print(any(b))"
   ]
  },
  {
   "cell_type": "code",
   "execution_count": 24,
   "id": "4b46ff0e",
   "metadata": {},
   "outputs": [
    {
     "name": "stdout",
     "output_type": "stream",
     "text": [
      "False\n",
      "False\n"
     ]
    }
   ],
   "source": [
    "print(all(a))\n",
    "print(all(b))"
   ]
  },
  {
   "cell_type": "code",
   "execution_count": 28,
   "id": "7a94ccb4",
   "metadata": {},
   "outputs": [
    {
     "name": "stdout",
     "output_type": "stream",
     "text": [
      "None\n"
     ]
    }
   ],
   "source": [
    "def f():\n",
    "    return\n",
    "\n",
    "x = f()\n",
    "print(x)"
   ]
  },
  {
   "cell_type": "code",
   "execution_count": 29,
   "id": "d79ffd02",
   "metadata": {},
   "outputs": [
    {
     "name": "stdout",
     "output_type": "stream",
     "text": [
      "<class 'NoneType'>\n"
     ]
    }
   ],
   "source": [
    "print(type(x))"
   ]
  },
  {
   "cell_type": "code",
   "execution_count": 30,
   "id": "03fed14b",
   "metadata": {},
   "outputs": [
    {
     "data": {
      "text/plain": [
       "'0b1100'"
      ]
     },
     "execution_count": 30,
     "metadata": {},
     "output_type": "execute_result"
    }
   ],
   "source": [
    "bin(12)"
   ]
  },
  {
   "cell_type": "code",
   "execution_count": 31,
   "id": "57cbfeed",
   "metadata": {},
   "outputs": [
    {
     "data": {
      "text/plain": [
       "'0xc'"
      ]
     },
     "execution_count": 31,
     "metadata": {},
     "output_type": "execute_result"
    }
   ],
   "source": [
    "hex(12)"
   ]
  },
  {
   "cell_type": "code",
   "execution_count": 32,
   "id": "e421b402",
   "metadata": {},
   "outputs": [
    {
     "data": {
      "text/plain": [
       "'0x7c'"
      ]
     },
     "execution_count": 32,
     "metadata": {},
     "output_type": "execute_result"
    }
   ],
   "source": [
    "hex(124)"
   ]
  },
  {
   "cell_type": "code",
   "execution_count": 34,
   "id": "8c004a04",
   "metadata": {},
   "outputs": [
    {
     "data": {
      "text/plain": [
       "12"
      ]
     },
     "execution_count": 34,
     "metadata": {},
     "output_type": "execute_result"
    }
   ],
   "source": [
    "int(\"1100\", 2)"
   ]
  },
  {
   "cell_type": "code",
   "execution_count": 35,
   "id": "6cb3fe5a",
   "metadata": {},
   "outputs": [
    {
     "data": {
      "text/plain": [
       "65"
      ]
     },
     "execution_count": 35,
     "metadata": {},
     "output_type": "execute_result"
    }
   ],
   "source": [
    "ord('A')"
   ]
  },
  {
   "cell_type": "code",
   "execution_count": 36,
   "id": "1e894cf7",
   "metadata": {},
   "outputs": [
    {
     "data": {
      "text/plain": [
       "10"
      ]
     },
     "execution_count": 36,
     "metadata": {},
     "output_type": "execute_result"
    }
   ],
   "source": [
    "ord('\\n')"
   ]
  },
  {
   "cell_type": "code",
   "execution_count": 37,
   "id": "5b418dd5",
   "metadata": {},
   "outputs": [
    {
     "data": {
      "text/plain": [
       "32"
      ]
     },
     "execution_count": 37,
     "metadata": {},
     "output_type": "execute_result"
    }
   ],
   "source": [
    "ord(\" \")"
   ]
  },
  {
   "cell_type": "code",
   "execution_count": 38,
   "id": "5f08f8ae",
   "metadata": {},
   "outputs": [
    {
     "data": {
      "text/plain": [
       "'z'"
      ]
     },
     "execution_count": 38,
     "metadata": {},
     "output_type": "execute_result"
    }
   ],
   "source": [
    "chr(97+25)"
   ]
  },
  {
   "cell_type": "code",
   "execution_count": 39,
   "id": "55e75ac2",
   "metadata": {},
   "outputs": [
    {
     "data": {
      "text/plain": [
       "'Z'"
      ]
     },
     "execution_count": 39,
     "metadata": {},
     "output_type": "execute_result"
    }
   ],
   "source": [
    "chr(65+25)"
   ]
  },
  {
   "cell_type": "code",
   "execution_count": 41,
   "id": "76eaf470",
   "metadata": {},
   "outputs": [
    {
     "name": "stdout",
     "output_type": "stream",
     "text": [
      "(1, 2, 3, 4, 5, 6)\n",
      "<class 'tuple'>\n"
     ]
    }
   ],
   "source": [
    "def func(*x):\n",
    "    print(x)\n",
    "    print(type(x))\n",
    "\n",
    "func(1, 2, 3, 4, 5, 6)"
   ]
  },
  {
   "cell_type": "code",
   "execution_count": 42,
   "id": "2a62d010",
   "metadata": {},
   "outputs": [
    {
     "name": "stdout",
     "output_type": "stream",
     "text": [
      "(3, 4, 5, 6)\n",
      "<class 'tuple'>\n"
     ]
    }
   ],
   "source": [
    "def func(a, b, *x):\n",
    "    print(x)\n",
    "    print(type(x))\n",
    "\n",
    "func(1, 2, 3, 4, 5, 6)"
   ]
  },
  {
   "cell_type": "code",
   "execution_count": 45,
   "id": "44542288",
   "metadata": {},
   "outputs": [
    {
     "name": "stdout",
     "output_type": "stream",
     "text": [
      "(3, 4, 5, 6)\n",
      "<class 'tuple'>\n",
      "{'e': 1, 'r': 5, 't': 6}\n",
      "<class 'dict'>\n"
     ]
    }
   ],
   "source": [
    "def func(a, b, *args, **kwargs):\n",
    "    print(args)\n",
    "    print(type(args))\n",
    "    print(kwargs)\n",
    "    print(type(kwargs))\n",
    "\n",
    "func(1, 2, 3, 4, 5, 6, e = 1, r = 5, t = 6)"
   ]
  },
  {
   "cell_type": "code",
   "execution_count": 46,
   "id": "d2a5a2a1",
   "metadata": {},
   "outputs": [
    {
     "name": "stdout",
     "output_type": "stream",
     "text": [
      "1\n",
      "try-except is finished\n"
     ]
    }
   ],
   "source": [
    "try:\n",
    "    print(1)\n",
    "except:\n",
    "    print(\"Something went wrong!\")\n",
    "finally:\n",
    "    print(\"try-except is finished\")"
   ]
  },
  {
   "cell_type": "code",
   "execution_count": 47,
   "id": "24cda869",
   "metadata": {},
   "outputs": [
    {
     "name": "stdout",
     "output_type": "stream",
     "text": [
      "Something went wrong!\n",
      "try-except is finished\n"
     ]
    }
   ],
   "source": [
    "try:\n",
    "    print(1/0)\n",
    "except:\n",
    "    print(\"Something went wrong!\")\n",
    "finally:\n",
    "    print(\"try-except is finished\")"
   ]
  },
  {
   "cell_type": "code",
   "execution_count": null,
   "id": "40ebe098",
   "metadata": {},
   "outputs": [],
   "source": []
  }
 ],
 "metadata": {
  "kernelspec": {
   "display_name": "Python 3 (ipykernel)",
   "language": "python",
   "name": "python3"
  },
  "language_info": {
   "codemirror_mode": {
    "name": "ipython",
    "version": 3
   },
   "file_extension": ".py",
   "mimetype": "text/x-python",
   "name": "python",
   "nbconvert_exporter": "python",
   "pygments_lexer": "ipython3",
   "version": "3.11.4"
  }
 },
 "nbformat": 4,
 "nbformat_minor": 5
}

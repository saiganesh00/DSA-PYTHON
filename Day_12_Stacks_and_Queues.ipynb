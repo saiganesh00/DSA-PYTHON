{
 "cells": [
  {
   "cell_type": "markdown",
   "id": "89f330d7",
   "metadata": {},
   "source": [
    "## **Stack**"
   ]
  },
  {
   "cell_type": "code",
   "execution_count": 1,
   "id": "4054c6ec",
   "metadata": {},
   "outputs": [
    {
     "name": "stdout",
     "output_type": "stream",
     "text": [
      "Item 10 pushed to stack\n",
      "Item 20 pushed to stack\n",
      "Item 30 pushed to stack\n",
      "Stack: [10, 20, 30]\n",
      "Item 30 popped from stack\n",
      "Stack: [10, 20]\n"
     ]
    }
   ],
   "source": [
    "class Stack:\n",
    "    def __init__(self):\n",
    "        self.stack = []\n",
    "\n",
    "    def push(self, item):\n",
    "        self.stack.append(item)\n",
    "        print(f\"Item {item} pushed to stack\")\n",
    "\n",
    "    def pop(self):\n",
    "        if not self.is_empty():\n",
    "            item = self.stack.pop()\n",
    "            print(f\"Item {item} popped from stack\")\n",
    "            return item\n",
    "        else:\n",
    "            print(\"Stack is empty\")\n",
    "            return None\n",
    "\n",
    "    def peek(self):\n",
    "        if not self.is_empty():\n",
    "            return self.stack[-1]\n",
    "        else:\n",
    "            print(\"Stack is empty\")\n",
    "            return None\n",
    "\n",
    "    def is_empty(self):\n",
    "        return len(self.stack) == 0\n",
    "\n",
    "    def size(self):\n",
    "        return len(self.stack)\n",
    "\n",
    "    def display(self):\n",
    "        print(\"Stack:\", self.stack)\n",
    "\n",
    "# Example usage:\n",
    "s = Stack()\n",
    "s.push(10)\n",
    "s.push(20)\n",
    "s.push(30)\n",
    "s.display()      # Output: Stack: [10, 20, 30]\n",
    "s.pop()          # Output: Item 30 popped from stack\n",
    "s.display()      # Output: Stack: [10, 20]\n"
   ]
  },
  {
   "cell_type": "code",
   "execution_count": null,
   "id": "8eac742e",
   "metadata": {},
   "outputs": [],
   "source": []
  },
  {
   "cell_type": "code",
   "execution_count": null,
   "id": "faf95d48",
   "metadata": {},
   "outputs": [],
   "source": []
  },
  {
   "cell_type": "markdown",
   "id": "853851c9",
   "metadata": {},
   "source": [
    "## **Queue**"
   ]
  },
  {
   "cell_type": "code",
   "execution_count": 2,
   "id": "eab93be7",
   "metadata": {},
   "outputs": [
    {
     "name": "stdout",
     "output_type": "stream",
     "text": [
      "Item 10 enqueued to queue\n",
      "Item 20 enqueued to queue\n",
      "Item 30 enqueued to queue\n",
      "Queue: [10, 20, 30]\n",
      "Item 10 dequeued from queue\n",
      "Queue: [20, 30]\n"
     ]
    }
   ],
   "source": [
    "class Queue:\n",
    "    def __init__(self):\n",
    "        self.queue = []\n",
    "\n",
    "    def enqueue(self, item):\n",
    "        self.queue.append(item)\n",
    "        print(f\"Item {item} enqueued to queue\")\n",
    "\n",
    "    def dequeue(self):\n",
    "        if not self.is_empty():\n",
    "            item = self.queue.pop(0)\n",
    "            print(f\"Item {item} dequeued from queue\")\n",
    "            return item\n",
    "        else:\n",
    "            print(\"Queue is empty\")\n",
    "            return None\n",
    "\n",
    "    def peek(self):\n",
    "        if not self.is_empty():\n",
    "            return self.queue[0]\n",
    "        else:\n",
    "            print(\"Queue is empty\")\n",
    "            return None\n",
    "\n",
    "    def is_empty(self):\n",
    "        return len(self.queue) == 0\n",
    "\n",
    "    def size(self):\n",
    "        return len(self.queue)\n",
    "\n",
    "    def display(self):\n",
    "        print(\"Queue:\", self.queue)\n",
    "\n",
    "# Example usage:\n",
    "q = Queue()\n",
    "q.enqueue(10)\n",
    "q.enqueue(20)\n",
    "q.enqueue(30)\n",
    "q.display()      # Output: Queue: [10, 20, 30]\n",
    "q.dequeue()      # Output: Item 10 dequeued from queue\n",
    "q.display()      # Output: Queue: [20, 30]\n"
   ]
  },
  {
   "cell_type": "code",
   "execution_count": null,
   "id": "f5d911c9",
   "metadata": {},
   "outputs": [],
   "source": []
  },
  {
   "cell_type": "code",
   "execution_count": 5,
   "id": "d532ac90",
   "metadata": {},
   "outputs": [
    {
     "data": {
      "text/plain": [
       "1"
      ]
     },
     "execution_count": 5,
     "metadata": {},
     "output_type": "execute_result"
    }
   ],
   "source": [
    "# Valid Parenthesis\n",
    "\n",
    "def is_valid_parenthesis(strs):\n",
    "    st = []\n",
    "    hm = {\"[\": \"]\", \"{\":\"}\", \"(\": \")\"}\n",
    "    for ele in strs:\n",
    "        if ele in hm:\n",
    "            st.append(ele)\n",
    "        else:\n",
    "            if len(st) == 0:\n",
    "                return 0\n",
    "            elif hm[st[-1]] == ele:\n",
    "                st.pop()\n",
    "            else:\n",
    "                return 0\n",
    "    return 1 if len(st) == 0 else 0\n",
    "\n",
    "is_valid_parenthesis(\"{()}\")"
   ]
  },
  {
   "cell_type": "code",
   "execution_count": 7,
   "id": "f391ac50",
   "metadata": {},
   "outputs": [
    {
     "data": {
      "text/plain": [
       "'ca'"
      ]
     },
     "execution_count": 7,
     "metadata": {},
     "output_type": "execute_result"
    }
   ],
   "source": [
    "# Removing all adjacent duplicates\n",
    "def remove_duplicates(s):\n",
    "    st = []\n",
    "    for ele in s:\n",
    "        if ele not in st:\n",
    "            st.append(ele)\n",
    "        else:\n",
    "            if st[-1] == ele:\n",
    "                st.pop()\n",
    "            else:\n",
    "                st.append(ele)\n",
    "    return \"\".join(st)\n",
    "\n",
    "remove_duplicates(\"abbaca\")"
   ]
  },
  {
   "cell_type": "code",
   "execution_count": 8,
   "id": "1c21f3d5",
   "metadata": {},
   "outputs": [
    {
     "data": {
      "text/plain": [
       "'ca'"
      ]
     },
     "execution_count": 8,
     "metadata": {},
     "output_type": "execute_result"
    }
   ],
   "source": [
    "# Removing all adjacent duplicates\n",
    "def remove_duplicates(s):\n",
    "    st = []\n",
    "    for ele in s:\n",
    "        if not st or st[-1] != ele:\n",
    "            st.append(ele)\n",
    "        else:\n",
    "            st.pop()\n",
    "    return \"\".join(st)\n",
    "\n",
    "remove_duplicates(\"abbaca\")"
   ]
  },
  {
   "cell_type": "code",
   "execution_count": null,
   "id": "63067515",
   "metadata": {},
   "outputs": [],
   "source": []
  }
 ],
 "metadata": {
  "kernelspec": {
   "display_name": "Python 3 (ipykernel)",
   "language": "python",
   "name": "python3"
  },
  "language_info": {
   "codemirror_mode": {
    "name": "ipython",
    "version": 3
   },
   "file_extension": ".py",
   "mimetype": "text/x-python",
   "name": "python",
   "nbconvert_exporter": "python",
   "pygments_lexer": "ipython3",
   "version": "3.11.4"
  }
 },
 "nbformat": 4,
 "nbformat_minor": 5
}

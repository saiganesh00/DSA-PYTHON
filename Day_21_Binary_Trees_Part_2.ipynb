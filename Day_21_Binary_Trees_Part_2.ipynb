{
 "cells": [
  {
   "cell_type": "code",
   "execution_count": 1,
   "id": "712656b4",
   "metadata": {},
   "outputs": [],
   "source": [
    "# construc tree from inorder and preorder traversal\n",
    "class TreeNode:\n",
    "    def __init__(self, data = 0, left = None, right = None):\n",
    "            pass\n",
    "\n",
    "inomap = None\n",
    "pre = None\n",
    "\n",
    "def get_tree(pre_start, pre_end, in_start, in_end):\n",
    "        ino_indx = inomap[pre[pre_start]]\n",
    "        l = ino_indx - in_start\n",
    "        r = in_end - ino_indx\n",
    "        root = TreeNode(pre[pre_start])\n",
    "        root.left = get_tree(pre_start+1, pre_start + l, in_start, ino_indx) if l else None\n",
    "        root.right = get_tree(pre_start+l+1, pre_end, ino_indx + 1, in_end) if r else None\n",
    "        return root\n",
    "\n",
    "def construct_tree(n1, n2, preorder, inorder):\n",
    "    global inomap, pre\n",
    "    pre = preorder\n",
    "    inomap = {el: i for i, el in enumerate(inorder)}\n",
    "    \n",
    "    return get_tree(0, n1-1, 0, n2-1)"
   ]
  },
  {
   "cell_type": "code",
   "execution_count": 2,
   "id": "beb33de0",
   "metadata": {},
   "outputs": [],
   "source": [
    "# longest zig-zag path\n",
    "\n",
    "def func(root, k, is_left):\n",
    "    if root:\n",
    "        if is_left:\n",
    "            return max(func(root.left, 1, True), func(root.right, k+1, False))\n",
    "        else:\n",
    "            return max(func(root.left, k+1, True), func(root.right, 1, False))\n",
    "    return k - 1\n",
    "\n",
    "def longest_zig_zag_path(root):\n",
    "    return func(root, 0, True)"
   ]
  },
  {
   "cell_type": "code",
   "execution_count": 3,
   "id": "0b73c011",
   "metadata": {},
   "outputs": [],
   "source": [
    "# even odd tree\n",
    "\n",
    "from collections import deque\n",
    "\n",
    "def check_even_odd(root):\n",
    "    q = deque([root, None])\n",
    "    prev = 0\n",
    "    even =True\n",
    "    while len(q) > 1:\n",
    "        ele = q.popleft()\n",
    "        if ele:\n",
    "            if even:\n",
    "                if ele.data > prev and ele.data % 2:\n",
    "                    prev = ele.data\n",
    "                else:\n",
    "                    return 0\n",
    "            else:\n",
    "                if ele.data < prev and not ele.data % 2:\n",
    "                    prev = ele.data\n",
    "                else:\n",
    "                    return 0\n",
    "            if ele.left:\n",
    "                q.append(ele.left)\n",
    "            if ele.right:\n",
    "                q.append(ele.right)\n",
    "        else:\n",
    "            even = not even\n",
    "            if even:\n",
    "                prev = 0\n",
    "            else:\n",
    "                prev = 1e+007\n",
    "                \n",
    "            q.append(None)"
   ]
  },
  {
   "cell_type": "code",
   "execution_count": null,
   "id": "83e10047",
   "metadata": {},
   "outputs": [],
   "source": [
    "# leaf similar\n",
    "\n",
    "def func(root, ans):\n",
    "    if root:\n",
    "        if not root.left and not root.right:\n",
    "            ans.append(root.data)\n",
    "\n",
    "        func(root.left, ans)\n",
    "        func(root.right, ans)\n",
    "def leaf_similar_or_not(root1, root2):\n",
    "    ans1 = []\n",
    "    func(root1, ans1)\n",
    "    ans2 = []\n",
    "    func(root2, ans2)\n",
    "    \n",
    "    return True if ans1 == ans2 else False"
   ]
  }
 ],
 "metadata": {
  "kernelspec": {
   "display_name": "Python 3 (ipykernel)",
   "language": "python",
   "name": "python3"
  },
  "language_info": {
   "codemirror_mode": {
    "name": "ipython",
    "version": 3
   },
   "file_extension": ".py",
   "mimetype": "text/x-python",
   "name": "python",
   "nbconvert_exporter": "python",
   "pygments_lexer": "ipython3",
   "version": "3.11.4"
  }
 },
 "nbformat": 4,
 "nbformat_minor": 5
}

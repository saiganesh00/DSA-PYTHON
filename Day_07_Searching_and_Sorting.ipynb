{
 "cells": [
  {
   "cell_type": "markdown",
   "id": "6c58223d",
   "metadata": {},
   "source": [
    "## **Searching**"
   ]
  },
  {
   "cell_type": "code",
   "execution_count": 3,
   "id": "37e94c76",
   "metadata": {},
   "outputs": [
    {
     "name": "stdout",
     "output_type": "stream",
     "text": [
      "Enter the elements of the array\n",
      "12 3 14 11 6 5 \n"
     ]
    }
   ],
   "source": [
    "print('Enter the elements of the array')\n",
    "l = list(map(int, input().split()))"
   ]
  },
  {
   "cell_type": "code",
   "execution_count": 5,
   "id": "5e85784d",
   "metadata": {},
   "outputs": [
    {
     "name": "stdout",
     "output_type": "stream",
     "text": [
      "Key: 11 found at position: 4\n"
     ]
    }
   ],
   "source": [
    "# Linear Search\n",
    "\n",
    "key = 11\n",
    "count = 0\n",
    "for x in l:\n",
    "    count += 1\n",
    "    if x == key:\n",
    "        print(\"Key:\", key, \"found at position:\", count)\n",
    "        break;"
   ]
  },
  {
   "cell_type": "code",
   "execution_count": 18,
   "id": "d3a95f2e",
   "metadata": {},
   "outputs": [
    {
     "name": "stdout",
     "output_type": "stream",
     "text": [
      "Enter the elements of the array in sorted order\n",
      "1 2 3 4 5 6 7 8\n"
     ]
    }
   ],
   "source": [
    "print('Enter the elements of the array in sorted order')\n",
    "l = list(map(int, input().split()))"
   ]
  },
  {
   "cell_type": "code",
   "execution_count": 19,
   "id": "3cc52a78",
   "metadata": {},
   "outputs": [
    {
     "name": "stdout",
     "output_type": "stream",
     "text": [
      "Enter the key element: 8\n",
      "Element found at:  8\n"
     ]
    }
   ],
   "source": [
    "# Binary Search\n",
    "# Time Complexity: Worst Case: O(log n)\n",
    "# Space Complexity: aux --> O(1)\n",
    "key = int(input('Enter the key element: '))\n",
    "low = 0\n",
    "found = 0\n",
    "high = len(l) - 1\n",
    "while (low <= high):\n",
    "    mid = (low + high) // 2\n",
    "    if l[mid] == key:\n",
    "        print(\"Element found at: \", key)\n",
    "        found = 1\n",
    "        break\n",
    "    if l[mid] > key:\n",
    "        high = mid - 1\n",
    "    else:\n",
    "        low = mid + 1\n",
    "\n",
    "if found == 0:\n",
    "    print(\"Element not in array\")"
   ]
  },
  {
   "cell_type": "markdown",
   "id": "003a302e",
   "metadata": {},
   "source": [
    "## **Binary Search with Recursion**"
   ]
  },
  {
   "cell_type": "code",
   "execution_count": 25,
   "id": "d5d5699a",
   "metadata": {},
   "outputs": [
    {
     "name": "stdout",
     "output_type": "stream",
     "text": [
      "Enter the elements of the array in sorted order: \n",
      "10 20 30 40 50 60 70\n",
      "Key found at index: 4\n"
     ]
    }
   ],
   "source": [
    "def binary_search(arr, low, high, key):\n",
    "    if low <= high:\n",
    "        mid = (low + high) // 2\n",
    "        # mid = low + (high - low) // 2\n",
    "        if arr[mid] == key:\n",
    "            return mid\n",
    "        elif arr[mid] > key:\n",
    "            high = mid - 1\n",
    "            return binary_search(arr, low, high, key)\n",
    "        else:\n",
    "            low = mid + 1\n",
    "            return binary_search(arr, low, high, key)\n",
    "    else:\n",
    "        return -1\n",
    "\n",
    "\n",
    "li = list(map(int, input('Enter the elements of the array in sorted order: \\n').split()))\n",
    "key = 50\n",
    "low = 0\n",
    "high = len(li) - 1\n",
    "pos = binary_search(li, low, high, key)\n",
    "if pos != -1:\n",
    "    print(\"Key found at index:\", pos)\n",
    "else:\n",
    "    print(\"Key not found\")"
   ]
  },
  {
   "cell_type": "markdown",
   "id": "84dfae50",
   "metadata": {},
   "source": [
    "## **Sorting**\n"
   ]
  },
  {
   "cell_type": "markdown",
   "id": "9aed8257",
   "metadata": {},
   "source": [
    "### **Bubble Sort**"
   ]
  },
  {
   "cell_type": "code",
   "execution_count": 26,
   "id": "7c1c8ace",
   "metadata": {},
   "outputs": [
    {
     "name": "stdout",
     "output_type": "stream",
     "text": [
      "Enter the elements of the array in sorted order: \n",
      "12 14 7 6 4 1 3\n",
      "[12, 14, 7, 6, 4, 1, 3]\n",
      "[1, 3, 4, 6, 7, 12, 14]\n"
     ]
    }
   ],
   "source": [
    "def bubble_sort(arr):\n",
    "    n = len(arr)\n",
    "    for iter_num in range(n):\n",
    "        for curr in range(n - 1 - iter_num):\n",
    "            if arr[curr] > arr[curr + 1]:\n",
    "                temp = arr[curr]\n",
    "                arr[curr] = arr[curr + 1]\n",
    "                arr[curr + 1] = temp\n",
    "                # arr[cur], arr[curr + 1] = arr[curr + 1], arr[curr]\n",
    "                \n",
    "li = list(map(int, input('Enter the elements of the array in sorted order: \\n').split()))\n",
    "print(li)\n",
    "bubble_sort(li)\n",
    "print(li)"
   ]
  },
  {
   "cell_type": "markdown",
   "id": "693e47dd",
   "metadata": {},
   "source": [
    "### **Selection Sort**"
   ]
  },
  {
   "cell_type": "code",
   "execution_count": 28,
   "id": "16d04fcf",
   "metadata": {},
   "outputs": [
    {
     "name": "stdout",
     "output_type": "stream",
     "text": [
      "Enter the elements of the array in sorted order: \n",
      "12 14 7 6 4 1 3\n",
      "[12, 14, 7, 6, 4, 1, 3]\n",
      "[1, 3, 4, 6, 7, 12, 14]\n"
     ]
    }
   ],
   "source": [
    "def selection_sort(arr):\n",
    "    n = len(arr)\n",
    "    for iter_num in range(n):\n",
    "        min_index = iter_num\n",
    "        for curr in range(iter_num + 1, n):\n",
    "            if arr[curr] < arr[min_index]:\n",
    "                min_index = curr\n",
    "        temp = arr[min_index]\n",
    "        arr[min_index] = arr[iter_num]\n",
    "        arr[iter_num] = temp\n",
    "        # arr[min_index], arr[iter_num] = arr[iter_num], arr[min_index]\n",
    "        \n",
    "li = list(map(int, input('Enter the elements of the array in sorted order: \\n').split()))\n",
    "print(li)\n",
    "selection_sort(li)\n",
    "print(li)"
   ]
  },
  {
   "cell_type": "markdown",
   "id": "923b102d",
   "metadata": {},
   "source": [
    "### **Insertion Sort**"
   ]
  },
  {
   "cell_type": "code",
   "execution_count": 30,
   "id": "89578f36",
   "metadata": {},
   "outputs": [
    {
     "name": "stdout",
     "output_type": "stream",
     "text": [
      "Enter the elements of the array in sorted order: \n",
      "12 14 7 6 4 1 3\n",
      "[12, 14, 7, 6, 4, 1, 3]\n",
      "[1, 3, 4, 6, 7, 12, 14]\n"
     ]
    }
   ],
   "source": [
    "def insertion_sort(arr):\n",
    "    n = len(arr)\n",
    "    for wall in range(1, n):\n",
    "        curr = arr[wall]\n",
    "        pos_ptr = wall - 1\n",
    "        while pos_ptr >= 0 and curr < arr[pos_ptr]:\n",
    "            arr[pos_ptr + 1] = arr[pos_ptr]\n",
    "            pos_ptr -= 1\n",
    "        arr[pos_ptr + 1] = curr\n",
    "        \n",
    "li = list(map(int, input('Enter the elements of the array in sorted order: \\n').split()))\n",
    "print(li)\n",
    "insertion_sort(li)\n",
    "print(li)"
   ]
  },
  {
   "cell_type": "code",
   "execution_count": null,
   "id": "bb8bd5ec",
   "metadata": {},
   "outputs": [],
   "source": []
  }
 ],
 "metadata": {
  "kernelspec": {
   "display_name": "Python 3 (ipykernel)",
   "language": "python",
   "name": "python3"
  },
  "language_info": {
   "codemirror_mode": {
    "name": "ipython",
    "version": 3
   },
   "file_extension": ".py",
   "mimetype": "text/x-python",
   "name": "python",
   "nbconvert_exporter": "python",
   "pygments_lexer": "ipython3",
   "version": "3.11.4"
  }
 },
 "nbformat": 4,
 "nbformat_minor": 5
}

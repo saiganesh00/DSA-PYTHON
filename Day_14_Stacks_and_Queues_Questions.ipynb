{
 "cells": [
  {
   "cell_type": "code",
   "execution_count": 1,
   "id": "6bc4ca77",
   "metadata": {},
   "outputs": [],
   "source": [
    "# DFS\n",
    "\n",
    "#BFS --> Level order\n",
    "    "
   ]
  },
  {
   "cell_type": "code",
   "execution_count": 11,
   "id": "9fece774",
   "metadata": {},
   "outputs": [
    {
     "name": "stdout",
     "output_type": "stream",
     "text": [
      "4\n",
      "-1\n"
     ]
    }
   ],
   "source": [
    "from collections import deque\n",
    "def rotten_oranges(grid):\n",
    "    \n",
    "    rotten_q = deque()\n",
    "    m, n = len(grid), len(grid[0])\n",
    "    fresh_oranges = 0\n",
    "    for i in range(m):\n",
    "        for j in range(n):\n",
    "            if grid[i][j] == 1:\n",
    "                fresh_oranges += 1\n",
    "            elif grid[i][j] == 2:\n",
    "                rotten_q.append((i, j, 0))\n",
    "    if not fresh_oranges:\n",
    "        return 0\n",
    "    directions = {(1, 0), (-1, 0), (0, 1), (0, -1)}\n",
    "    while rotten_q:\n",
    "        ro_i, ro_j, time = rotten_q.pop()\n",
    "        for di, dj in directions:\n",
    "            new_o_i, new_o_j = ro_i + di, ro_j + dj\n",
    "            if -1 < new_o_i < m and -1 < new_o_j < n and grid[new_o_i][new_o_j] == 1:\n",
    "                fresh_oranges -= 1\n",
    "                if not fresh_oranges:\n",
    "                    return time + 1\n",
    "                grid[new_o_i][new_o_j] = 2\n",
    "                rotten_q.appendleft((new_o_i, new_o_j, time+1))\n",
    "    return -1\n",
    "\n",
    "\n",
    "grid = [[2,1,1],[1,1,0],[0,1,1]]\n",
    "print(rotten_oranges(grid))\n",
    "grid = [[2,1,1],[0,1,1],[1,0,1]]\n",
    "print(rotten_oranges(grid))"
   ]
  },
  {
   "cell_type": "code",
   "execution_count": 14,
   "id": "649ecc91",
   "metadata": {},
   "outputs": [],
   "source": [
    "def next_discount(prices):\n",
    "    st = []\n",
    "    st.append(prices[-1])\n",
    "    \n",
    "    nse = []\n",
    "    for x in prices[::-1]:\n",
    "        if x <= st[-1]:\n",
    "            nse.append()"
   ]
  },
  {
   "cell_type": "code",
   "execution_count": 15,
   "id": "3a25220a",
   "metadata": {},
   "outputs": [],
   "source": [
    "def next_greater_element(arr):\n",
    "    pass"
   ]
  },
  {
   "cell_type": "code",
   "execution_count": 21,
   "id": "f360006a",
   "metadata": {},
   "outputs": [
    {
     "name": "stdout",
     "output_type": "stream",
     "text": [
      "devnst\n",
      "abcd\n"
     ]
    }
   ],
   "source": [
    "def sub_sequence(s):\n",
    "    hm = {}\n",
    "    for i, ele in enumerate(s):\n",
    "        hm[ele] = i\n",
    "    st = []\n",
    "    present = set()\n",
    "    for i, e in enumerate(s):\n",
    "        if e in present:\n",
    "            continue\n",
    "        while st and st[-1] > e and hm[st[-1]] > i:\n",
    "            t = st.pop()\n",
    "            present.remove(t)\n",
    "        st.append(e)\n",
    "        present.add(e)\n",
    "    return \"\".join(st)\n",
    "\n",
    "print(sub_sequence(\"devsnest\"))\n",
    "print(sub_sequence(\"abbacabdcd\"))"
   ]
  },
  {
   "cell_type": "code",
   "execution_count": 23,
   "id": "cbbc1847",
   "metadata": {},
   "outputs": [
    {
     "name": "stdout",
     "output_type": "stream",
     "text": [
      "6\n"
     ]
    }
   ],
   "source": [
    "# Page replacement algorithm --> FIFO\n",
    "from collections import deque\n",
    "def page_replacement(pages, capacity):\n",
    "    cache_q = deque()\n",
    "    cache_set = set()\n",
    "    page_faults = 0\n",
    "    for page in pages:\n",
    "        if page not in cache_set:\n",
    "            page_faults += 1\n",
    "            if len(cache_q) == capacity:\n",
    "                el = cache_q.pop()\n",
    "                cache_set.remove(el)\n",
    "            else:\n",
    "                cache_q.appendleft(page)\n",
    "                cache_set.add(page)\n",
    "        \n",
    "    return page_faults\n",
    "\n",
    "print(page_replacement([1, 2, 1, 3, 4, 5, 2, 3, 1], 4))"
   ]
  },
  {
   "cell_type": "code",
   "execution_count": null,
   "id": "315eec68",
   "metadata": {},
   "outputs": [],
   "source": []
  }
 ],
 "metadata": {
  "kernelspec": {
   "display_name": "Python 3 (ipykernel)",
   "language": "python",
   "name": "python3"
  },
  "language_info": {
   "codemirror_mode": {
    "name": "ipython",
    "version": 3
   },
   "file_extension": ".py",
   "mimetype": "text/x-python",
   "name": "python",
   "nbconvert_exporter": "python",
   "pygments_lexer": "ipython3",
   "version": "3.11.4"
  }
 },
 "nbformat": 4,
 "nbformat_minor": 5
}

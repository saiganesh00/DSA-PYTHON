{
 "cells": [
  {
   "cell_type": "code",
   "execution_count": 2,
   "id": "bdab4b90",
   "metadata": {},
   "outputs": [],
   "source": [
    "def make_lls_equal(l1, l2):\n",
    "    p1, p2 = l1, l2\n",
    "    while p1 or p2:\n",
    "        if p1:\n",
    "            p1 = p1.next\n",
    "        else:\n",
    "            n = Node(0)\n",
    "            n.next = l1\n",
    "            l1 = n\n",
    "        if p2:\n",
    "            p2 = p2.next\n",
    "        else:\n",
    "            n = Node(0)\n",
    "            n.next = l2\n",
    "            l2 = n\n",
    "    return l1, l2"
   ]
  },
  {
   "cell_type": "code",
   "execution_count": 3,
   "id": "38f94843",
   "metadata": {},
   "outputs": [],
   "source": [
    "def add_numbers(l1, l2):\n",
    "    if not l1.data or not l2.data:\n",
    "        return l1 if l1.data else l2\n",
    "    l1, l2 = make_lls_equals(l1, l2)\n",
    "    any_l2 = True\n",
    "    \n",
    "    while any_l2:\n",
    "        any_l2 = False\n",
    "        l1_p, l2_p = l1, l2\n",
    "        prev = None\n",
    "        \n",
    "        while l1_p:\n",
    "            k = l1_p.data + l2_p.data\n",
    "            l1_p.data = k % 10\n",
    "            l2_p.data = k // 10\n",
    "            any_l2 = any_l2 or bool(l2_p.data)\n",
    "            prev = l2_p\n",
    "            l2_p, l1_p = l2_p.next, l1_p.next\n",
    "        \n",
    "        prev.next = Node(0)\n",
    "        if l2.data:\n",
    "            n = Node(0)\n",
    "            n.next = l1\n",
    "            l1 = n\n",
    "        else:\n",
    "            l2 = l2.next\n",
    "    return l1\n",
    "    "
   ]
  },
  {
   "cell_type": "code",
   "execution_count": 4,
   "id": "0d93cace",
   "metadata": {},
   "outputs": [],
   "source": [
    "def get_intersection_nodes(headA, headB):\n",
    "    s = set()\n",
    "    while headA:\n",
    "        s.add(id(headA))\n",
    "        headA = headA.next\n",
    "    \n",
    "    while headB:\n",
    "        if id(headB) in s:\n",
    "            return headB\n",
    "        headB = headB.next\n",
    "    return None\n",
    "    "
   ]
  },
  {
   "cell_type": "code",
   "execution_count": 6,
   "id": "f2f3070b",
   "metadata": {},
   "outputs": [],
   "source": [
    "def remove_cycle(head):\n",
    "    slow = fast = head\n",
    "    while fast and fast.next:\n",
    "        slow = slow.next\n",
    "        fast = fast.next.next\n",
    "        if fast is slow:\n",
    "            fast = head\n",
    "            #break\n",
    "    if fast:\n",
    "        while fast is not slow:\n",
    "            fast = fast.next\n",
    "            slow = slow.next\n",
    "        return fast\n",
    "    return None      "
   ]
  },
  {
   "cell_type": "code",
   "execution_count": null,
   "id": "fa35397f",
   "metadata": {},
   "outputs": [],
   "source": [
    "def remove_duplcates(head):\n",
    "    if not head:\n",
    "        return head\n",
    "    p = Node(0)\n",
    "    p.next = head\n",
    "    head = p\n",
    "    l = r = head.next\n",
    "    while r:\n",
    "        if l.data == r.data:\n",
    "            r = r.next\n",
    "        elif l.next is r:\n",
    "            p.next = l\n",
    "            p = l\n",
    "            l = r\n",
    "        else:\n",
    "            l = r\n",
    "    p.next = None if l.next else l\n",
    "    return head.next"
   ]
  }
 ],
 "metadata": {
  "kernelspec": {
   "display_name": "Python 3 (ipykernel)",
   "language": "python",
   "name": "python3"
  },
  "language_info": {
   "codemirror_mode": {
    "name": "ipython",
    "version": 3
   },
   "file_extension": ".py",
   "mimetype": "text/x-python",
   "name": "python",
   "nbconvert_exporter": "python",
   "pygments_lexer": "ipython3",
   "version": "3.11.4"
  }
 },
 "nbformat": 4,
 "nbformat_minor": 5
}

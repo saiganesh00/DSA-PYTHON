{
 "cells": [
  {
   "cell_type": "markdown",
   "id": "b899c90f",
   "metadata": {},
   "source": [
    "## **List Comprehension**"
   ]
  },
  {
   "cell_type": "code",
   "execution_count": 4,
   "id": "5f0a0373",
   "metadata": {},
   "outputs": [
    {
     "name": "stdout",
     "output_type": "stream",
     "text": [
      "[1, 3, 2, 4, 5, 6]\n",
      "[2, 4, 6]\n"
     ]
    }
   ],
   "source": [
    "a = [1, 3, 2, 4, 5, 6]\n",
    "b = [x for x in a if x % 2 == 0]\n",
    "print(a)\n",
    "print(b)"
   ]
  },
  {
   "cell_type": "code",
   "execution_count": 5,
   "id": "81855811",
   "metadata": {},
   "outputs": [
    {
     "name": "stdout",
     "output_type": "stream",
     "text": [
      "[1, 27, 8, 64, 125, 216]\n"
     ]
    }
   ],
   "source": [
    "c = [x**3 for x in a]\n",
    "print(c)"
   ]
  },
  {
   "cell_type": "code",
   "execution_count": 6,
   "id": "b0c2930a",
   "metadata": {},
   "outputs": [
    {
     "name": "stdout",
     "output_type": "stream",
     "text": [
      "[4, 16, 36]\n"
     ]
    }
   ],
   "source": [
    "d = [x ** 2 for x in a if x % 2 == 0]\n",
    "print(d)"
   ]
  },
  {
   "cell_type": "code",
   "execution_count": 7,
   "id": "51d2541d",
   "metadata": {},
   "outputs": [
    {
     "name": "stdout",
     "output_type": "stream",
     "text": [
      "[1, 9, 8, 64, 25, 216]\n"
     ]
    }
   ],
   "source": [
    "e = [x ** 3 if x % 2 == 0 else x ** 2 for x in a]\n",
    "print(e)"
   ]
  },
  {
   "cell_type": "markdown",
   "id": "eaffdf9d",
   "metadata": {},
   "source": [
    "## **Tuple**"
   ]
  },
  {
   "cell_type": "code",
   "execution_count": 8,
   "id": "07e1c81c",
   "metadata": {},
   "outputs": [],
   "source": [
    "a = (1, 2, 3, 4)"
   ]
  },
  {
   "cell_type": "code",
   "execution_count": 9,
   "id": "09edaae8",
   "metadata": {},
   "outputs": [
    {
     "name": "stdout",
     "output_type": "stream",
     "text": [
      "(1, 2, 3, 4)\n"
     ]
    }
   ],
   "source": [
    "print(a)"
   ]
  },
  {
   "cell_type": "code",
   "execution_count": 10,
   "id": "08c189b6",
   "metadata": {},
   "outputs": [
    {
     "name": "stdout",
     "output_type": "stream",
     "text": [
      "<class 'tuple'>\n"
     ]
    }
   ],
   "source": [
    "print(type(a))"
   ]
  },
  {
   "cell_type": "code",
   "execution_count": 11,
   "id": "5d807c7c",
   "metadata": {},
   "outputs": [
    {
     "name": "stdout",
     "output_type": "stream",
     "text": [
      "4\n"
     ]
    }
   ],
   "source": [
    "print(len(a))"
   ]
  },
  {
   "cell_type": "code",
   "execution_count": 12,
   "id": "11998daf",
   "metadata": {},
   "outputs": [
    {
     "name": "stdout",
     "output_type": "stream",
     "text": [
      "1\n"
     ]
    }
   ],
   "source": [
    "print(a[0])"
   ]
  },
  {
   "cell_type": "code",
   "execution_count": 13,
   "id": "9bbcd8a2",
   "metadata": {},
   "outputs": [
    {
     "name": "stdout",
     "output_type": "stream",
     "text": [
      "4\n"
     ]
    }
   ],
   "source": [
    "print(a[-1])"
   ]
  },
  {
   "cell_type": "code",
   "execution_count": 14,
   "id": "ab35908e",
   "metadata": {},
   "outputs": [
    {
     "ename": "TypeError",
     "evalue": "'tuple' object does not support item assignment",
     "output_type": "error",
     "traceback": [
      "\u001b[1;31m---------------------------------------------------------------------------\u001b[0m",
      "\u001b[1;31mTypeError\u001b[0m                                 Traceback (most recent call last)",
      "Cell \u001b[1;32mIn[14], line 3\u001b[0m\n\u001b[0;32m      1\u001b[0m \u001b[38;5;66;03m# Tuples are Immutable\u001b[39;00m\n\u001b[1;32m----> 3\u001b[0m a[\u001b[38;5;241m0\u001b[39m] \u001b[38;5;241m=\u001b[39m \u001b[38;5;241m0\u001b[39m\n",
      "\u001b[1;31mTypeError\u001b[0m: 'tuple' object does not support item assignment"
     ]
    }
   ],
   "source": [
    "# Tuples are Immutable\n",
    "\n",
    "a[0] = 0"
   ]
  },
  {
   "cell_type": "code",
   "execution_count": 20,
   "id": "4b50d753",
   "metadata": {},
   "outputs": [
    {
     "name": "stdout",
     "output_type": "stream",
     "text": [
      "(1, 2, [1, 2, 3, 4])\n",
      "64\n",
      "(1, 2, [1, 2, 3, 4, 0, 1, 2, 3, 4, 5, 6, 7, 8, 9, 10, 11, 12, 13, 14, 15, 16, 17, 18, 19, 20, 21, 22, 23, 24, 25, 26, 27, 28, 29, 30, 31, 32, 33, 34, 35, 36, 37, 38, 39, 40, 41, 42, 43, 44, 45, 46, 47, 48, 49, 50, 51, 52, 53, 54, 55, 56, 57, 58, 59, 60, 61, 62, 63, 64, 65, 66, 67, 68, 69, 70, 71, 72, 73, 74, 75, 76, 77, 78, 79, 80, 81, 82, 83, 84, 85, 86, 87, 88, 89, 90, 91, 92, 93, 94, 95, 96, 97, 98, 99])\n",
      "64\n"
     ]
    }
   ],
   "source": [
    "import sys\n",
    "\n",
    "tuple1 = (1, 2, [1, 2, 3, 4])\n",
    "print(tuple1)\n",
    "print(sys.getsizeof(tuple1))\n",
    "tuple1[-1].extend([x for x in range(100)])\n",
    "print(tuple1)\n",
    "print(sys.getsizeof(tuple1))"
   ]
  },
  {
   "cell_type": "code",
   "execution_count": 21,
   "id": "c18a134f",
   "metadata": {},
   "outputs": [
    {
     "name": "stdout",
     "output_type": "stream",
     "text": [
      "[1, 2, [1, 2, 3, 4, 0, 1, 2, 3, 4, 5, 6, 7, 8, 9, 10, 11, 12, 13, 14, 15, 16, 17, 18, 19, 20, 21, 22, 23, 24, 25, 26, 27, 28, 29, 30, 31, 32, 33, 34, 35, 36, 37, 38, 39, 40, 41, 42, 43, 44, 45, 46, 47, 48, 49, 50, 51, 52, 53, 54, 55, 56, 57, 58, 59, 60, 61, 62, 63, 64, 65, 66, 67, 68, 69, 70, 71, 72, 73, 74, 75, 76, 77, 78, 79, 80, 81, 82, 83, 84, 85, 86, 87, 88, 89, 90, 91, 92, 93, 94, 95, 96, 97, 98, 99]]\n",
      "<class 'list'>\n"
     ]
    }
   ],
   "source": [
    "list1 = list(tuple1)\n",
    "print(list1)\n",
    "print(type(list1))"
   ]
  },
  {
   "cell_type": "markdown",
   "id": "5943dcc5",
   "metadata": {},
   "source": [
    "## **Functions**"
   ]
  },
  {
   "cell_type": "code",
   "execution_count": 22,
   "id": "209d8871",
   "metadata": {},
   "outputs": [],
   "source": [
    "def f():\n",
    "    print(1)\n",
    "    print(2)\n",
    "    print(3)"
   ]
  },
  {
   "cell_type": "code",
   "execution_count": 23,
   "id": "752d3966",
   "metadata": {},
   "outputs": [
    {
     "name": "stdout",
     "output_type": "stream",
     "text": [
      "1\n",
      "2\n",
      "3\n",
      "4\n",
      "5\n",
      "1\n",
      "2\n",
      "3\n"
     ]
    }
   ],
   "source": [
    "f()\n",
    "print(4)\n",
    "print(5)\n",
    "f()"
   ]
  },
  {
   "cell_type": "code",
   "execution_count": 24,
   "id": "c0d27f8d",
   "metadata": {},
   "outputs": [],
   "source": [
    "def func(a, b):\n",
    "    if a % 2 == 1:\n",
    "        return b\n",
    "    else:\n",
    "        return b**2"
   ]
  },
  {
   "cell_type": "code",
   "execution_count": 25,
   "id": "0a5e611a",
   "metadata": {},
   "outputs": [
    {
     "name": "stdout",
     "output_type": "stream",
     "text": [
      "9\n",
      "3\n"
     ]
    }
   ],
   "source": [
    "x = func(2, 3)\n",
    "y = func(3, 3)\n",
    "print(x)\n",
    "print(y)"
   ]
  },
  {
   "cell_type": "code",
   "execution_count": 28,
   "id": "bfce4e83",
   "metadata": {},
   "outputs": [],
   "source": [
    "def func(a, b):\n",
    "    if a % 2 == 1:\n",
    "        return b\n",
    "    return b**2"
   ]
  },
  {
   "cell_type": "code",
   "execution_count": 29,
   "id": "087ce062",
   "metadata": {},
   "outputs": [
    {
     "name": "stdout",
     "output_type": "stream",
     "text": [
      "9\n",
      "3\n"
     ]
    }
   ],
   "source": [
    "x = func(2, 3)\n",
    "y = func(3, 3)\n",
    "print(x)\n",
    "print(y)"
   ]
  },
  {
   "cell_type": "code",
   "execution_count": 30,
   "id": "bcef338c",
   "metadata": {},
   "outputs": [
    {
     "ename": "NameError",
     "evalue": "name 'func1' is not defined",
     "output_type": "error",
     "traceback": [
      "\u001b[1;31m---------------------------------------------------------------------------\u001b[0m",
      "\u001b[1;31mNameError\u001b[0m                                 Traceback (most recent call last)",
      "Cell \u001b[1;32mIn[30], line 1\u001b[0m\n\u001b[1;32m----> 1\u001b[0m func1()\n\u001b[0;32m      3\u001b[0m \u001b[38;5;28;01mdef\u001b[39;00m \u001b[38;5;21mfunc1\u001b[39m():\n\u001b[0;32m      4\u001b[0m     \u001b[38;5;28mprint\u001b[39m(\u001b[38;5;124m\"\u001b[39m\u001b[38;5;124mHello\u001b[39m\u001b[38;5;124m\"\u001b[39m)\n",
      "\u001b[1;31mNameError\u001b[0m: name 'func1' is not defined"
     ]
    }
   ],
   "source": [
    "func1()\n",
    "\n",
    "def func1():\n",
    "    print(\"Hello\")"
   ]
  },
  {
   "cell_type": "code",
   "execution_count": 31,
   "id": "8d2b6ca7",
   "metadata": {},
   "outputs": [
    {
     "name": "stdout",
     "output_type": "stream",
     "text": [
      "Hello\n"
     ]
    }
   ],
   "source": [
    "def func1():\n",
    "    print(\"Hello\")\n",
    "    \n",
    "func1()"
   ]
  },
  {
   "cell_type": "code",
   "execution_count": 32,
   "id": "d22d6202",
   "metadata": {},
   "outputs": [
    {
     "name": "stdout",
     "output_type": "stream",
     "text": [
      "Make it Stop\n",
      "!!!\n"
     ]
    }
   ],
   "source": [
    "def f2():\n",
    "    print(\"!!!\")\n",
    "\n",
    "def f1():\n",
    "    print(\"Make it Stop\")\n",
    "    f2()\n",
    "\n",
    "f1()"
   ]
  },
  {
   "cell_type": "code",
   "execution_count": 33,
   "id": "28cf4cc1",
   "metadata": {},
   "outputs": [
    {
     "name": "stdout",
     "output_type": "stream",
     "text": [
      "1 2 3\n",
      "2 3 1\n"
     ]
    }
   ],
   "source": [
    "def f1(a, b, c):\n",
    "    print(a, b, c)\n",
    "    \n",
    "def f2(x, y, z):\n",
    "    print(x, y, z)\n",
    "    \n",
    "f1(1, 2, 3)\n",
    "f2(z = 1, x = 2, y = 3)"
   ]
  },
  {
   "cell_type": "code",
   "execution_count": 34,
   "id": "cb52ed35",
   "metadata": {},
   "outputs": [
    {
     "name": "stdout",
     "output_type": "stream",
     "text": [
      "6 7 8\n",
      "6 2 3\n"
     ]
    }
   ],
   "source": [
    "def f1(a, b = 2, c = 3):\n",
    "    print(a, b, c)\n",
    "    \n",
    "f1(6, 7, 8)\n",
    "f1(6)"
   ]
  },
  {
   "cell_type": "code",
   "execution_count": 36,
   "id": "9e1fe166",
   "metadata": {},
   "outputs": [
    {
     "name": "stdout",
     "output_type": "stream",
     "text": [
      "(1, 2, 3)\n",
      "<class 'tuple'>\n"
     ]
    }
   ],
   "source": [
    "def func():\n",
    "    return 1, 2, 3\n",
    "\n",
    "a = func()\n",
    "print(a)\n",
    "print(type(a))"
   ]
  },
  {
   "cell_type": "code",
   "execution_count": 37,
   "id": "84e53cc2",
   "metadata": {},
   "outputs": [
    {
     "name": "stdout",
     "output_type": "stream",
     "text": [
      "1\n",
      "2\n",
      "3\n"
     ]
    }
   ],
   "source": [
    "p, q, r = a\n",
    "\n",
    "print(p, q, r, sep = \"\\n\")"
   ]
  },
  {
   "cell_type": "code",
   "execution_count": 38,
   "id": "f9ffb864",
   "metadata": {},
   "outputs": [
    {
     "name": "stdout",
     "output_type": "stream",
     "text": [
      "Hello\n"
     ]
    }
   ],
   "source": [
    "if __name__ == \"__main__\":\n",
    "    print(\"Hello\")"
   ]
  },
  {
   "cell_type": "code",
   "execution_count": 40,
   "id": "b9bfba91",
   "metadata": {},
   "outputs": [
    {
     "name": "stdout",
     "output_type": "stream",
     "text": [
      "5\n",
      "10\n"
     ]
    }
   ],
   "source": [
    "a = 10\n",
    "\n",
    "def func():\n",
    "    a = 5\n",
    "    print(a)\n",
    "\n",
    "func()\n",
    "print(a)"
   ]
  },
  {
   "cell_type": "code",
   "execution_count": 41,
   "id": "b45237a8",
   "metadata": {},
   "outputs": [
    {
     "name": "stdout",
     "output_type": "stream",
     "text": [
      "10\n",
      "20\n",
      "10\n"
     ]
    }
   ],
   "source": [
    "a = 10\n",
    "\n",
    "def func():\n",
    "    print(a)\n",
    "    \n",
    "#    a = 5 ---> Not Allowed, because a is global\n",
    "    \n",
    "    y = a + 10\n",
    "    print(y)\n",
    "\n",
    "func()\n",
    "print(a)"
   ]
  },
  {
   "cell_type": "code",
   "execution_count": 44,
   "id": "7cbae2fe",
   "metadata": {},
   "outputs": [
    {
     "name": "stdout",
     "output_type": "stream",
     "text": [
      "10\n",
      "140707153220680\n",
      "5\n",
      "140707153220520\n"
     ]
    }
   ],
   "source": [
    "a = 10\n",
    "\n",
    "def func():\n",
    "    global a  # Allowed to change, because of global declaration\n",
    "    print(a)\n",
    "    print(id(a))\n",
    "    a = 5\n",
    "\n",
    "func()\n",
    "print(a)\n",
    "print(id(a))"
   ]
  },
  {
   "cell_type": "markdown",
   "id": "1b12bfdc",
   "metadata": {},
   "source": [
    "## **split() function:**"
   ]
  },
  {
   "cell_type": "code",
   "execution_count": 46,
   "id": "93b999d8",
   "metadata": {},
   "outputs": [],
   "source": [
    "string = \"Welcome to devsnest!\"\n",
    "l = string.split()"
   ]
  },
  {
   "cell_type": "code",
   "execution_count": 47,
   "id": "5bc12371",
   "metadata": {},
   "outputs": [
    {
     "data": {
      "text/plain": [
       "['Welcome', 'to', 'devsnest!']"
      ]
     },
     "execution_count": 47,
     "metadata": {},
     "output_type": "execute_result"
    }
   ],
   "source": [
    "l"
   ]
  },
  {
   "cell_type": "code",
   "execution_count": 48,
   "id": "992742f6",
   "metadata": {},
   "outputs": [],
   "source": [
    "l = string.split('e')"
   ]
  },
  {
   "cell_type": "code",
   "execution_count": 49,
   "id": "659e0b15",
   "metadata": {},
   "outputs": [
    {
     "data": {
      "text/plain": [
       "['W', 'lcom', ' to d', 'vsn', 'st!']"
      ]
     },
     "execution_count": 49,
     "metadata": {},
     "output_type": "execute_result"
    }
   ],
   "source": [
    "l"
   ]
  },
  {
   "cell_type": "code",
   "execution_count": 50,
   "id": "f2acd55a",
   "metadata": {},
   "outputs": [],
   "source": [
    "l = string.split('e', 2)"
   ]
  },
  {
   "cell_type": "code",
   "execution_count": 51,
   "id": "f153f0fa",
   "metadata": {},
   "outputs": [
    {
     "data": {
      "text/plain": [
       "['W', 'lcom', ' to devsnest!']"
      ]
     },
     "execution_count": 51,
     "metadata": {},
     "output_type": "execute_result"
    }
   ],
   "source": [
    "l"
   ]
  },
  {
   "cell_type": "code",
   "execution_count": 52,
   "id": "9fe399ed",
   "metadata": {},
   "outputs": [],
   "source": [
    "l = string.split('e')"
   ]
  },
  {
   "cell_type": "code",
   "execution_count": 53,
   "id": "0c62b780",
   "metadata": {},
   "outputs": [
    {
     "data": {
      "text/plain": [
       "['W', 'lcom', ' to d', 'vsn', 'st!']"
      ]
     },
     "execution_count": 53,
     "metadata": {},
     "output_type": "execute_result"
    }
   ],
   "source": [
    "l"
   ]
  },
  {
   "cell_type": "markdown",
   "id": "0fffd04a",
   "metadata": {},
   "source": [
    "## **join() Function:**"
   ]
  },
  {
   "cell_type": "code",
   "execution_count": 54,
   "id": "e04a5da4",
   "metadata": {},
   "outputs": [
    {
     "data": {
      "text/plain": [
       "'W??lcom?? to d??vsn??st!'"
      ]
     },
     "execution_count": 54,
     "metadata": {},
     "output_type": "execute_result"
    }
   ],
   "source": [
    "\"??\".join(l)"
   ]
  },
  {
   "cell_type": "code",
   "execution_count": 55,
   "id": "544a0992",
   "metadata": {},
   "outputs": [
    {
     "data": {
      "text/plain": [
       "'Welcome to devsnest!'"
      ]
     },
     "execution_count": 55,
     "metadata": {},
     "output_type": "execute_result"
    }
   ],
   "source": [
    "\"e\".join(l)"
   ]
  },
  {
   "cell_type": "markdown",
   "id": "0004d786",
   "metadata": {},
   "source": [
    "## map() Function:"
   ]
  },
  {
   "cell_type": "code",
   "execution_count": 57,
   "id": "cdf953c3",
   "metadata": {},
   "outputs": [
    {
     "data": {
      "text/plain": [
       "[1, 2, 4]"
      ]
     },
     "execution_count": 57,
     "metadata": {},
     "output_type": "execute_result"
    }
   ],
   "source": [
    "list(map(int, [\"1\", 2.33, \"4\"]))"
   ]
  },
  {
   "cell_type": "code",
   "execution_count": 58,
   "id": "5e088134",
   "metadata": {},
   "outputs": [
    {
     "name": "stdout",
     "output_type": "stream",
     "text": [
      "[1, 8, 27, 64]\n"
     ]
    }
   ],
   "source": [
    "def func(x):\n",
    "    return x ** 3\n",
    "\n",
    "print(list(map(func, [1, 2, 3, 4])))"
   ]
  },
  {
   "cell_type": "code",
   "execution_count": 59,
   "id": "32caa303",
   "metadata": {},
   "outputs": [
    {
     "name": "stdout",
     "output_type": "stream",
     "text": [
      "1 2 3 4 5\n",
      "[1, 2, 3, 4, 5]\n"
     ]
    }
   ],
   "source": [
    "# Taking the dynamic input of a list\n",
    "\n",
    "list1 = list(map(int, input().split()))\n",
    "print(list1)"
   ]
  },
  {
   "cell_type": "code",
   "execution_count": null,
   "id": "ba8cffb1",
   "metadata": {},
   "outputs": [],
   "source": []
  }
 ],
 "metadata": {
  "kernelspec": {
   "display_name": "Python 3 (ipykernel)",
   "language": "python",
   "name": "python3"
  },
  "language_info": {
   "codemirror_mode": {
    "name": "ipython",
    "version": 3
   },
   "file_extension": ".py",
   "mimetype": "text/x-python",
   "name": "python",
   "nbconvert_exporter": "python",
   "pygments_lexer": "ipython3",
   "version": "3.11.4"
  }
 },
 "nbformat": 4,
 "nbformat_minor": 5
}

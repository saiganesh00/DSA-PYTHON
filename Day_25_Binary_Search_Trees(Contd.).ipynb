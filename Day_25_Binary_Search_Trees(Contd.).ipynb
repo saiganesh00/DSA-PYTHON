{
 "cells": [
  {
   "cell_type": "code",
   "execution_count": 1,
   "id": "7ba6b901",
   "metadata": {},
   "outputs": [],
   "source": [
    "# lowest common ancestor of BST\n",
    "\n",
    "def lowest_ancestor(root, p, q):\n",
    "    \n",
    "    def func(root, p, q):\n",
    "        if root:\n",
    "            if  p <= root.data <= q:\n",
    "                return root\n",
    "            if q < root.data:\n",
    "                return func(root.left, p, q)\n",
    "            return func(root.right, p, q)\n",
    "            \n",
    "    \n",
    "    return func(root, min(p, q), max(p, q))"
   ]
  },
  {
   "cell_type": "code",
   "execution_count": 2,
   "id": "6888b1e0",
   "metadata": {},
   "outputs": [],
   "source": [
    "# Kth smallest value in bst\n",
    "\n",
    "i = 0\n",
    "n = None\n",
    "\n",
    "def kth_smallest(root, k):\n",
    "    if root:\n",
    "        global i, n\n",
    "        kth_smallest(root.left, k)\n",
    "        i += 1\n",
    "        if i == k:\n",
    "            n = root.data\n",
    "        elif i < k:\n",
    "            kth_smallest(root.right, k)\n",
    "    return n"
   ]
  },
  {
   "cell_type": "code",
   "execution_count": 3,
   "id": "871edbc4",
   "metadata": {},
   "outputs": [],
   "source": [
    "# Maximum sum bst\n",
    "\n",
    "msum = 0\n",
    "# inf, ninf = 10**5, 10 ** 5\n",
    "\n",
    "def func(root):\n",
    "    if not root:\n",
    "        return 10**5, -10 ** 5, 0\n",
    "    lmin, lmax, lsum = func(root.left)\n",
    "    rmin, rmax, rsum = func(root.right)\n",
    "    \n",
    "    if lmax < root.data < rmin:\n",
    "        global msum\n",
    "        msum = max(msum, lsum + rsum + root.data)\n",
    "        return min(lmin, root.data), max(rmax, root.data), lsum + rsum + root.data\n",
    "    \n",
    "    return -10**5, 10 ** 5, 0\n",
    "\n",
    "def maximus_sum_bst(root):\n",
    "    func(root)\n",
    "    return msum"
   ]
  },
  {
   "cell_type": "code",
   "execution_count": null,
   "id": "aeaf9f6d",
   "metadata": {},
   "outputs": [],
   "source": []
  }
 ],
 "metadata": {
  "kernelspec": {
   "display_name": "Python 3 (ipykernel)",
   "language": "python",
   "name": "python3"
  },
  "language_info": {
   "codemirror_mode": {
    "name": "ipython",
    "version": 3
   },
   "file_extension": ".py",
   "mimetype": "text/x-python",
   "name": "python",
   "nbconvert_exporter": "python",
   "pygments_lexer": "ipython3",
   "version": "3.11.4"
  }
 },
 "nbformat": 4,
 "nbformat_minor": 5
}

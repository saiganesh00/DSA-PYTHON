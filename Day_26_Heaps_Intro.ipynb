{
 "cells": [
  {
   "cell_type": "markdown",
   "id": "74225f96",
   "metadata": {},
   "source": [
    "### **Heaps**"
   ]
  },
  {
   "cell_type": "code",
   "execution_count": 3,
   "id": "4df34a4e",
   "metadata": {},
   "outputs": [
    {
     "name": "stdout",
     "output_type": "stream",
     "text": [
      "[10, 200, 3, 6, 5, 4, 7, 8, 9]\n",
      "[200, 10, 7, 9, 5, 4, 3, 8, 6]\n"
     ]
    }
   ],
   "source": [
    "def heapify_down(arr, i):\n",
    "    n = len(arr)\n",
    "    while i < n//2:\n",
    "        l, r = (2 * i)+ 1, (2 * i)+ 2\n",
    "        max_idx = l if l < n and arr[l] > arr[i] else i\n",
    "        max_idx = r if r < n and arr[r] > arr[i] else max_idx\n",
    "        if max_idx == i:\n",
    "            break\n",
    "        arr[max_idx], arr[i] = arr[i], arr[max_idx]\n",
    "        i = max_idx\n",
    "def create_heap(arr):\n",
    "    for i in range((len(arr) //2 ) - 1, -1, -1):\n",
    "        heapify_down(arr, i)\n",
    "\n",
    "\n",
    "arr = [10, 200, 3, 6, 5, 4, 7, 8, 9]\n",
    "print(arr)\n",
    "# for i in range((len(arr) //2 ) - 1, -1, -1):\n",
    "#     print(i)\n",
    "create_heap(arr)\n",
    "print(arr)"
   ]
  },
  {
   "cell_type": "code",
   "execution_count": null,
   "id": "47b1cd3a",
   "metadata": {},
   "outputs": [],
   "source": []
  }
 ],
 "metadata": {
  "kernelspec": {
   "display_name": "Python 3 (ipykernel)",
   "language": "python",
   "name": "python3"
  },
  "language_info": {
   "codemirror_mode": {
    "name": "ipython",
    "version": 3
   },
   "file_extension": ".py",
   "mimetype": "text/x-python",
   "name": "python",
   "nbconvert_exporter": "python",
   "pygments_lexer": "ipython3",
   "version": "3.11.4"
  }
 },
 "nbformat": 4,
 "nbformat_minor": 5
}

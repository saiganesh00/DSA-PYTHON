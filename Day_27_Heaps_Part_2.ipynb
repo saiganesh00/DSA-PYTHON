{
 "cells": [
  {
   "cell_type": "code",
   "execution_count": 2,
   "id": "e496893a",
   "metadata": {},
   "outputs": [
    {
     "name": "stdout",
     "output_type": "stream",
     "text": [
      "[2, 3, 5, 100, 1, 7, 3, 19]\n",
      "[1, 2, 3, 19, 3, 7, 5, 100]\n"
     ]
    }
   ],
   "source": [
    "import heapq\n",
    "\n",
    "hp = [2, 3, 5, 100, 1, 7, 3, 19]\n",
    "print(hp)\n",
    "heapq.heapify(hp)\n",
    "print(hp)"
   ]
  },
  {
   "cell_type": "code",
   "execution_count": 4,
   "id": "9b7cfd8a",
   "metadata": {},
   "outputs": [
    {
     "data": {
      "text/plain": [
       "['__about__',\n",
       " '__all__',\n",
       " '__builtins__',\n",
       " '__cached__',\n",
       " '__doc__',\n",
       " '__file__',\n",
       " '__loader__',\n",
       " '__name__',\n",
       " '__package__',\n",
       " '__spec__',\n",
       " '_heapify_max',\n",
       " '_heappop_max',\n",
       " '_heapreplace_max',\n",
       " '_siftdown',\n",
       " '_siftdown_max',\n",
       " '_siftup',\n",
       " '_siftup_max',\n",
       " 'heapify',\n",
       " 'heappop',\n",
       " 'heappush',\n",
       " 'heappushpop',\n",
       " 'heapreplace',\n",
       " 'merge',\n",
       " 'nlargest',\n",
       " 'nsmallest']"
      ]
     },
     "execution_count": 4,
     "metadata": {},
     "output_type": "execute_result"
    }
   ],
   "source": [
    "dir(heapq)"
   ]
  },
  {
   "cell_type": "code",
   "execution_count": 5,
   "id": "8a6571e8",
   "metadata": {},
   "outputs": [
    {
     "data": {
      "text/plain": [
       "1"
      ]
     },
     "execution_count": 5,
     "metadata": {},
     "output_type": "execute_result"
    }
   ],
   "source": [
    "heapq.heappop(hp)"
   ]
  },
  {
   "cell_type": "code",
   "execution_count": 6,
   "id": "f2f15798",
   "metadata": {},
   "outputs": [
    {
     "name": "stdout",
     "output_type": "stream",
     "text": [
      "[2, 3, 3, 19, 100, 7, 5]\n"
     ]
    }
   ],
   "source": [
    "print(hp)"
   ]
  },
  {
   "cell_type": "code",
   "execution_count": 8,
   "id": "18201b3a",
   "metadata": {},
   "outputs": [],
   "source": [
    "heapq.heappush(hp, -2)"
   ]
  },
  {
   "cell_type": "code",
   "execution_count": 9,
   "id": "0deba4c0",
   "metadata": {},
   "outputs": [
    {
     "name": "stdout",
     "output_type": "stream",
     "text": [
      "[-2, 2, 3, 3, 100, 7, 5, 19]\n"
     ]
    }
   ],
   "source": [
    "print(hp)"
   ]
  },
  {
   "cell_type": "code",
   "execution_count": 13,
   "id": "ba950d4d",
   "metadata": {},
   "outputs": [],
   "source": [
    "hp2 = hp[:]"
   ]
  },
  {
   "cell_type": "code",
   "execution_count": 14,
   "id": "b4dc9ab3",
   "metadata": {},
   "outputs": [
    {
     "name": "stdout",
     "output_type": "stream",
     "text": [
      "[-2, 2, 3, 3, 100, 7, 5, 19]\n",
      "[100, 19, 7, 3, 2, 3, 5, -2]\n"
     ]
    }
   ],
   "source": [
    "print(hp2)\n",
    "heapq._heapify_max(hp2)  # max heap\n",
    "print(hp2)"
   ]
  },
  {
   "cell_type": "code",
   "execution_count": 15,
   "id": "c140863b",
   "metadata": {},
   "outputs": [
    {
     "name": "stdout",
     "output_type": "stream",
     "text": [
      "[2, -2, -3, -3, -100, -7, -5, -19]\n"
     ]
    }
   ],
   "source": [
    "hp = [-x for x in hp]\n",
    "print(hp)"
   ]
  },
  {
   "cell_type": "code",
   "execution_count": 16,
   "id": "ca6a7c09",
   "metadata": {},
   "outputs": [],
   "source": [
    "heapq.heapify(hp)"
   ]
  },
  {
   "cell_type": "code",
   "execution_count": 17,
   "id": "c77fe1fc",
   "metadata": {},
   "outputs": [
    {
     "data": {
      "text/plain": [
       "[-100, -19, -7, -3, -2, -3, -5, 2]"
      ]
     },
     "execution_count": 17,
     "metadata": {},
     "output_type": "execute_result"
    }
   ],
   "source": [
    "hp"
   ]
  },
  {
   "cell_type": "code",
   "execution_count": 23,
   "id": "81bffce4",
   "metadata": {},
   "outputs": [
    {
     "name": "stdout",
     "output_type": "stream",
     "text": [
      "[2]\n",
      "[2, 5]\n",
      "[2, 5, 200]\n",
      "[2, 5, 200, 21]\n",
      "[5, 21, 200]\n",
      "[5, 15, 200, 21]\n",
      "[15, 21, 200]\n"
     ]
    },
    {
     "data": {
      "text/plain": [
       "15"
      ]
     },
     "execution_count": 23,
     "metadata": {},
     "output_type": "execute_result"
    }
   ],
   "source": [
    "import heapq\n",
    "\n",
    "def find_kth_largest(n, nums, k):\n",
    "    hp = []\n",
    "    for ele in nums:\n",
    "        if len(hp) < k:\n",
    "            heapq.heappush(hp, ele)\n",
    "            print(hp)\n",
    "        else:\n",
    "            if hp[0] < ele:\n",
    "                heapq.heappush(hp, ele)\n",
    "                print(hp)\n",
    "                heapq.heappop(hp)\n",
    "                print(hp)\n",
    "    return hp[0]\n",
    "\n",
    "find_kth_largest(7, [2, 5, 200, 21, 15, 12, 4], 3)"
   ]
  },
  {
   "cell_type": "code",
   "execution_count": 24,
   "id": "4cee16c6",
   "metadata": {},
   "outputs": [],
   "source": [
    "import heapq\n",
    "\n",
    "def merge_sorted_lists(lists):\n",
    "    hp = []\n",
    "    for head in lists:\n",
    "        if head:\n",
    "            heapq.heappush(hp, (head.data, head))\n",
    "    ans = ListNode()\n",
    "    p = ans\n",
    "    while hp:\n",
    "        ele = heapq.heappop(hp)[1]\n",
    "        p.next = ele\n",
    "        p = p.next\n",
    "        if ele.next:\n",
    "            heapq.heappush(hp, (ele.next.val, ele.next))\n",
    "    return ans.next\n",
    "      "
   ]
  },
  {
   "cell_type": "code",
   "execution_count": 30,
   "id": "263e2384",
   "metadata": {},
   "outputs": [
    {
     "name": "stdout",
     "output_type": "stream",
     "text": [
      "[(2, 1)]\n",
      "[(2, 1), (2, 2)]\n",
      "[(2, 1), (2, 2), (3, 3)]\n",
      "[(2, 2), (3, 3)]\n"
     ]
    },
    {
     "data": {
      "text/plain": [
       "[2, 3]"
      ]
     },
     "execution_count": 30,
     "metadata": {},
     "output_type": "execute_result"
    }
   ],
   "source": [
    "# top k frequent elements\n",
    "import heapq\n",
    "from collections import Counter\n",
    "def top_k_frequent_elements(nums, k):\n",
    "    freq = Counter(nums)\n",
    "    hp = []\n",
    "    for ele in freq:\n",
    "        count = freq[ele]\n",
    "        heapq.heappush(hp, (count, ele))\n",
    "        print(hp)\n",
    "        if len(hp) > k:\n",
    "            heapq.heappop(hp)\n",
    "            print(hp)\n",
    "    return [x[1] for x in hp]            \n",
    "\n",
    "top_k_frequent_elements([1, 1, 2, 2, 3, 3, 3], 2)"
   ]
  },
  {
   "cell_type": "code",
   "execution_count": null,
   "id": "80ad4502",
   "metadata": {},
   "outputs": [],
   "source": []
  }
 ],
 "metadata": {
  "kernelspec": {
   "display_name": "Python 3 (ipykernel)",
   "language": "python",
   "name": "python3"
  },
  "language_info": {
   "codemirror_mode": {
    "name": "ipython",
    "version": 3
   },
   "file_extension": ".py",
   "mimetype": "text/x-python",
   "name": "python",
   "nbconvert_exporter": "python",
   "pygments_lexer": "ipython3",
   "version": "3.11.4"
  }
 },
 "nbformat": 4,
 "nbformat_minor": 5
}

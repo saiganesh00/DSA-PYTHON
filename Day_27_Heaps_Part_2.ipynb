{
 "cells": [
  {
   "cell_type": "code",
   "execution_count": 2,
   "id": "ebead253",
   "metadata": {},
   "outputs": [
    {
     "name": "stdout",
     "output_type": "stream",
     "text": [
      "[2, 3, 5, 100, 1, 7, 3, 19]\n",
      "[1, 2, 3, 19, 3, 7, 5, 100]\n"
     ]
    }
   ],
   "source": [
    "import heapq\n",
    "\n",
    "hp = [2, 3, 5, 100, 1, 7, 3, 19]\n",
    "print(hp)\n",
    "heapq.heapify(hp)\n",
    "print(hp)"
   ]
  },
  {
   "cell_type": "code",
   "execution_count": 4,
   "id": "3dc72d79",
   "metadata": {},
   "outputs": [
    {
     "data": {
      "text/plain": [
       "['__about__',\n",
       " '__all__',\n",
       " '__builtins__',\n",
       " '__cached__',\n",
       " '__doc__',\n",
       " '__file__',\n",
       " '__loader__',\n",
       " '__name__',\n",
       " '__package__',\n",
       " '__spec__',\n",
       " '_heapify_max',\n",
       " '_heappop_max',\n",
       " '_heapreplace_max',\n",
       " '_siftdown',\n",
       " '_siftdown_max',\n",
       " '_siftup',\n",
       " '_siftup_max',\n",
       " 'heapify',\n",
       " 'heappop',\n",
       " 'heappush',\n",
       " 'heappushpop',\n",
       " 'heapreplace',\n",
       " 'merge',\n",
       " 'nlargest',\n",
       " 'nsmallest']"
      ]
     },
     "execution_count": 4,
     "metadata": {},
     "output_type": "execute_result"
    }
   ],
   "source": [
    "dir(heapq)"
   ]
  },
  {
   "cell_type": "code",
   "execution_count": 5,
   "id": "0c393e71",
   "metadata": {},
   "outputs": [
    {
     "data": {
      "text/plain": [
       "1"
      ]
     },
     "execution_count": 5,
     "metadata": {},
     "output_type": "execute_result"
    }
   ],
   "source": [
    "heapq.heappop(hp)"
   ]
  },
  {
   "cell_type": "code",
   "execution_count": 6,
   "id": "eff9ffae",
   "metadata": {},
   "outputs": [
    {
     "name": "stdout",
     "output_type": "stream",
     "text": [
      "[2, 3, 3, 19, 100, 7, 5]\n"
     ]
    }
   ],
   "source": [
    "print(hp)"
   ]
  },
  {
   "cell_type": "code",
   "execution_count": 8,
   "id": "e24ee17b",
   "metadata": {},
   "outputs": [],
   "source": [
    "heapq.heappush(hp, -2)"
   ]
  },
  {
   "cell_type": "code",
   "execution_count": 9,
   "id": "4ee6c67f",
   "metadata": {},
   "outputs": [
    {
     "name": "stdout",
     "output_type": "stream",
     "text": [
      "[-2, 2, 3, 3, 100, 7, 5, 19]\n"
     ]
    }
   ],
   "source": [
    "print(hp)"
   ]
  },
  {
   "cell_type": "code",
   "execution_count": 13,
   "id": "0f7e4d0a",
   "metadata": {},
   "outputs": [],
   "source": [
    "hp2 = hp[:]"
   ]
  },
  {
   "cell_type": "code",
   "execution_count": 14,
   "id": "a525a933",
   "metadata": {},
   "outputs": [
    {
     "name": "stdout",
     "output_type": "stream",
     "text": [
      "[-2, 2, 3, 3, 100, 7, 5, 19]\n",
      "[100, 19, 7, 3, 2, 3, 5, -2]\n"
     ]
    }
   ],
   "source": [
    "print(hp2)\n",
    "heapq._heapify_max(hp2)  # max heap\n",
    "print(hp2)"
   ]
  },
  {
   "cell_type": "code",
   "execution_count": 15,
   "id": "248de858",
   "metadata": {},
   "outputs": [
    {
     "name": "stdout",
     "output_type": "stream",
     "text": [
      "[2, -2, -3, -3, -100, -7, -5, -19]\n"
     ]
    }
   ],
   "source": [
    "hp = [-x for x in hp]\n",
    "print(hp)"
   ]
  },
  {
   "cell_type": "code",
   "execution_count": 16,
   "id": "6b013354",
   "metadata": {},
   "outputs": [],
   "source": [
    "heapq.heapify(hp)"
   ]
  },
  {
   "cell_type": "code",
   "execution_count": 17,
   "id": "aaca6ae1",
   "metadata": {},
   "outputs": [
    {
     "data": {
      "text/plain": [
       "[-100, -19, -7, -3, -2, -3, -5, 2]"
      ]
     },
     "execution_count": 17,
     "metadata": {},
     "output_type": "execute_result"
    }
   ],
   "source": [
    "hp"
   ]
  },
  {
   "cell_type": "code",
   "execution_count": 23,
   "id": "8e789e03",
   "metadata": {},
   "outputs": [
    {
     "name": "stdout",
     "output_type": "stream",
     "text": [
      "[2]\n",
      "[2, 5]\n",
      "[2, 5, 200]\n",
      "[2, 5, 200, 21]\n",
      "[5, 21, 200]\n",
      "[5, 15, 200, 21]\n",
      "[15, 21, 200]\n"
     ]
    },
    {
     "data": {
      "text/plain": [
       "15"
      ]
     },
     "execution_count": 23,
     "metadata": {},
     "output_type": "execute_result"
    }
   ],
   "source": [
    "import heapq\n",
    "\n",
    "def find_kth_largest(n, nums, k):\n",
    "    hp = []\n",
    "    for ele in nums:\n",
    "        if len(hp) < k:\n",
    "            heapq.heappush(hp, ele)\n",
    "            print(hp)\n",
    "        else:\n",
    "            if hp[0] < ele:\n",
    "                heapq.heappush(hp, ele)\n",
    "                print(hp)\n",
    "                heapq.heappop(hp)\n",
    "                print(hp)\n",
    "    return hp[0]\n",
    "\n",
    "find_kth_largest(7, [2, 5, 200, 21, 15, 12, 4], 3)"
   ]
  },
  {
   "cell_type": "code",
   "execution_count": 24,
   "id": "9ebfbcfa",
   "metadata": {},
   "outputs": [],
   "source": [
    "import heapq\n",
    "\n",
    "def merge_sorted_lists(lists):\n",
    "    hp = []\n",
    "    for head in lists:\n",
    "        if head:\n",
    "            heapq.heappush(hp, (head.data, head))\n",
    "    ans = ListNode()\n",
    "    p = ans\n",
    "    while hp:\n",
    "        ele = heapq.heappop(hp)[1]\n",
    "        p.next = ele\n",
    "        p = p.next\n",
    "        if ele.next:\n",
    "            heapq.heappush(hp, (ele.next.val, ele.next))\n",
    "    return ans.next\n",
    "      "
   ]
  },
  {
   "cell_type": "code",
   "execution_count": 25,
   "id": "72a21615",
   "metadata": {},
   "outputs": [],
   "source": [
    "# top k frequent elements\n",
    "import heapq\n",
    "from collections import Counter\n",
    "def top_k_frequent_elements(nums, k):\n",
    "    freq = Counter(nums)\n",
    "    hp = []\n",
    "    for ele in freq:\n",
    "        count = freq[ele]\n",
    "        heapq.heappush(hp, (count, ele))\n",
    "        if len(hp) > k:\n",
    "            heapq.heappop(hp)\n",
    "    return [x[1] for x in hp]            \n",
    "\n",
    "top_k_frequent_elements([1, ])"
   ]
  },
  {
   "cell_type": "code",
   "execution_count": null,
   "id": "16270356",
   "metadata": {},
   "outputs": [],
   "source": []
  }
 ],
 "metadata": {
  "kernelspec": {
   "display_name": "Python 3 (ipykernel)",
   "language": "python",
   "name": "python3"
  },
  "language_info": {
   "codemirror_mode": {
    "name": "ipython",
    "version": 3
   },
   "file_extension": ".py",
   "mimetype": "text/x-python",
   "name": "python",
   "nbconvert_exporter": "python",
   "pygments_lexer": "ipython3",
   "version": "3.11.4"
  }
 },
 "nbformat": 4,
 "nbformat_minor": 5
}

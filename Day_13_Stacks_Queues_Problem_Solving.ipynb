{
 "cells": [
  {
   "cell_type": "code",
   "execution_count": 1,
   "id": "b1178ad8",
   "metadata": {},
   "outputs": [],
   "source": [
    "# Aggressive Cows  --> Advanced Binary Search\n",
    "\n",
    "def aggresive_cows(stalls, cows):\n",
    "    pass # 1 to stall//cows"
   ]
  },
  {
   "cell_type": "code",
   "execution_count": 4,
   "id": "9c64011a",
   "metadata": {},
   "outputs": [
    {
     "data": {
      "text/plain": [
       "3"
      ]
     },
     "execution_count": 4,
     "metadata": {},
     "output_type": "execute_result"
    }
   ],
   "source": [
    "def gcd(a, b):\n",
    "    if b == 0:\n",
    "        return a\n",
    "    return gcd(b, a % b)\n",
    "\n",
    "gcd(24, 15 )"
   ]
  },
  {
   "cell_type": "code",
   "execution_count": 9,
   "id": "bfa59e8a",
   "metadata": {},
   "outputs": [
    {
     "name": "stdout",
     "output_type": "stream",
     "text": [
      "0\n",
      "1\n"
     ]
    }
   ],
   "source": [
    "def gcd(a, b):\n",
    "    if b == 0:\n",
    "        return a\n",
    "    return gcd(b, a % b)\n",
    "\n",
    "def deck_of_cards(deck):\n",
    "    hm = {}\n",
    "    for num in deck:\n",
    "        if num not in hm:\n",
    "            hm[num] = 1\n",
    "        else:\n",
    "            hm[num] += 1\n",
    "    \n",
    "    g = hm[deck[0]]\n",
    "    for val in hm.values():\n",
    "        g = gcd(max(g, val), min(g, val))\n",
    "    \n",
    "    return 1 if g > 1 else 0\n",
    "        \n",
    "li = [1, 1, 1, 2, 2, 2, 3, 3]    \n",
    "print(deck_of_cards(li))\n",
    "li = [1, 1, 1, 2, 2, 2, 3, 3, 3]    \n",
    "print(deck_of_cards(li))"
   ]
  },
  {
   "cell_type": "code",
   "execution_count": 15,
   "id": "4ca39aee",
   "metadata": {},
   "outputs": [
    {
     "name": "stdout",
     "output_type": "stream",
     "text": [
      "1 1 1 \n",
      "1 1 0 \n",
      "1 0 1 \n",
      "\n",
      "2 2 2 \n",
      "2 2 0 \n",
      "2 0 1 \n"
     ]
    }
   ],
   "source": [
    "def change_image_color(image, sr, sc, color):\n",
    "    org_color = image[sr][sc]\n",
    "    if org_color == color:\n",
    "        return image\n",
    "    image[sr][sc] = color\n",
    "    if sr > 0 and image[sr - 1][sc] == org_color:\n",
    "        change_image_color(image, sr-1, sc, color)\n",
    "    if sc > 0 and image[sr][sc - 1] == org_color:\n",
    "        change_image_color(image, sr, sc-1, color)\n",
    "    if sr < len(image) - 1 and image[sr + 1][sc] == org_color:\n",
    "        change_image_color(image, sr+1, sc, color)\n",
    "    if sc < len(image[0]) - 1 and image[sr][sc + 1] == org_color:\n",
    "        change_image_color(image, sr, sc+1, color)\n",
    "    return image\n",
    "\n",
    "# 3 3\n",
    "#      1 1 1\n",
    "#      1 1 0\n",
    "#      1 0 1\n",
    "#      1 \n",
    "#      1 \n",
    "#      2\n",
    "\n",
    "image = [[1, 1, 1], [1, 1, 0], [1, 0, 1]]\n",
    "for row in image:\n",
    "    for col in row:\n",
    "        print(col, end = \" \")\n",
    "    print()\n",
    "print()\n",
    "image = change_image_color(image, 1, 1, 2)\n",
    "for row in image:\n",
    "    for col in row:\n",
    "        print(col, end = \" \")\n",
    "    print()"
   ]
  },
  {
   "cell_type": "code",
   "execution_count": 18,
   "id": "fa7a85fb",
   "metadata": {},
   "outputs": [
    {
     "name": "stdout",
     "output_type": "stream",
     "text": [
      "2\n"
     ]
    }
   ],
   "source": [
    "# X . . X \n",
    "# . . . X \n",
    "# . . . X\n",
    "\n",
    "def battle_ships(board):\n",
    "    ans = 0\n",
    "    rows, cols = len(board), len(board[0])\n",
    "    for i in range(rows):\n",
    "        for j in range(cols):\n",
    "            if board[i][j] == \"X\" and (i == 0 or board[i-1][j] != \"X\") and (j == 0 or board[i][j-1] != \"X\"):\n",
    "                ans+= 1\n",
    "    return ans\n",
    "li= [[\"X\", \".\", \".\", \"X\"], [\".\", \".\", \".\", \"X\" ], [\".\", \".\", \".\", \"X\"]]\n",
    "print(battle_ships(li))"
   ]
  },
  {
   "cell_type": "code",
   "execution_count": null,
   "id": "565e745e",
   "metadata": {},
   "outputs": [],
   "source": []
  }
 ],
 "metadata": {
  "kernelspec": {
   "display_name": "Python 3 (ipykernel)",
   "language": "python",
   "name": "python3"
  },
  "language_info": {
   "codemirror_mode": {
    "name": "ipython",
    "version": 3
   },
   "file_extension": ".py",
   "mimetype": "text/x-python",
   "name": "python",
   "nbconvert_exporter": "python",
   "pygments_lexer": "ipython3",
   "version": "3.11.4"
  }
 },
 "nbformat": 4,
 "nbformat_minor": 5
}

{
 "cells": [
  {
   "cell_type": "markdown",
   "id": "d0a9fe5a",
   "metadata": {},
   "source": [
    "### **Odd Even Linked List**"
   ]
  },
  {
   "cell_type": "code",
   "execution_count": 1,
   "id": "fb31538e",
   "metadata": {},
   "outputs": [],
   "source": [
    "class Node:\n",
    "    def __init__(self, data):\n",
    "        self.data = data\n",
    "        self.next = None"
   ]
  },
  {
   "cell_type": "code",
   "execution_count": 2,
   "id": "71ded0c4",
   "metadata": {},
   "outputs": [],
   "source": [
    "class Node:\n",
    "    def __init__(self, data):\n",
    "        self.data = data\n",
    "        self.next = None\n",
    "class LinkedList:\n",
    "    def __init__(self):\n",
    "        self.head = None\n",
    "        self.tail = None\n",
    "    \n",
    "    def append(self, data):\n",
    "        if not self.head:\n",
    "            self.head = self.tail = Node(data)\n",
    "        else:\n",
    "            temp = Node(data)\n",
    "            self.tail.next = temp\n",
    "            self.tail = temp\n",
    "    \n",
    "    def print_list(self):\n",
    "        temp = self.head\n",
    "        while temp:\n",
    "            print(temp.data, \" --> \", end = \" \")\n",
    "            temp = temp.next\n",
    "        print(None)\n",
    "        return\n",
    "    \n",
    "    def count_nodes(self):\n",
    "        temp = self.head\n",
    "        count = 0\n",
    "        while temp:\n",
    "            temp = temp.next\n",
    "            count += 1\n",
    "        return count\n",
    "    \n",
    "    def reverse_list(self):\n",
    "        prev_node, curr_node, next_node = self.head, self.head.next, self.head.next.next\n",
    "        while next_node:\n",
    "            curr_node.next = prev_node\n",
    "            prev_node = curr_node\n",
    "            curr_node = next_node\n",
    "            next_node = next_node.next\n",
    "        self.head.next = None\n",
    "        curr_node.next = prev_node\n",
    "        self.head = curr_node\n",
    "        return\n",
    "    def reverse_second_half(self, head):\n",
    "        prev_node, curr_node, next_node = head, head.next, head.next.next\n",
    "        while next_node:\n",
    "            curr_node.next = prev_node\n",
    "            prev_node = curr_node\n",
    "            curr_node = next_node\n",
    "            next_node = next_node.next\n",
    "        head.next = None\n",
    "        curr_node.next = prev_node\n",
    "        head = curr_node\n",
    "        return head\n",
    "\n",
    "    def cut_in_half(self):\n",
    "        if not self.head or not self.head.next:\n",
    "            return self.head\n",
    "        slow, fast = self.head, self.head.next\n",
    "        while fast.next and fast.next.next:\n",
    "            slow = slow.next\n",
    "            fast = fast.next.next\n",
    "        if fast.next:\n",
    "            slow = slow.next\n",
    "        temp = slow.next\n",
    "        slow.next = None\n",
    "        return temp\n",
    "    \n",
    "    def reorder_list(self):\n",
    "        second_half = self.cut_in_half()\n",
    "        second_half = self.reverse_second_half(second_half)\n",
    "        ptr = self.head\n",
    "        while second_half:\n",
    "            x = second_half.next\n",
    "            second_half.next = ptr.next\n",
    "            ptr.next = second_half\n",
    "            ptr = ptr.next.next\n",
    "            second_half = x\n",
    "        return self.head\n",
    "    \n",
    "    def swap_adjacent(self, head):\n",
    "        if not head or not head:\n",
    "            return self.head\n",
    "        \n",
    "        ptr1 = head\n",
    "        ptr2 = head.next\n",
    "        x = ptr2.next\n",
    "        ptr2.next = ptr1\n",
    "        ptr1.next = self.swap_adjacent(x)\n",
    "        return ptr2\n",
    "    "
   ]
  },
  {
   "cell_type": "code",
   "execution_count": 7,
   "id": "52c441ed",
   "metadata": {},
   "outputs": [],
   "source": [
    "li = LinkedList()"
   ]
  },
  {
   "cell_type": "code",
   "execution_count": 8,
   "id": "4996a847",
   "metadata": {},
   "outputs": [
    {
     "name": "stdout",
     "output_type": "stream",
     "text": [
      "1  -->  2  -->  3  -->  None\n",
      "3\n",
      "3  -->  2  -->  1  -->  None\n"
     ]
    }
   ],
   "source": [
    "li.append(1)\n",
    "li.append(2)\n",
    "li.append(3)\n",
    "li.print_list()\n",
    "print(li.count_nodes())\n",
    "li.reverse_list()\n",
    "li.print_list()"
   ]
  },
  {
   "cell_type": "code",
   "execution_count": 11,
   "id": "fedad872",
   "metadata": {},
   "outputs": [],
   "source": [
    "def odd_even_list(head):\n",
    "    if not head or not head.next or not head.next.next:\n",
    "        return head\n",
    "    odd = head\n",
    "    even = head.next\n",
    "    \n",
    "    while even and even.next:\n",
    "        x = even.next\n",
    "        even.next = even.next.next\n",
    "        \n",
    "        x.next = odd.next\n",
    "        odd.next = x\n",
    "        odd = odd.next\n",
    "        even = even.next\n",
    "    return head"
   ]
  },
  {
   "cell_type": "code",
   "execution_count": 12,
   "id": "dc7d54c7",
   "metadata": {},
   "outputs": [
    {
     "name": "stdout",
     "output_type": "stream",
     "text": [
      "1  -->  2  -->  3  -->  4  -->  None\n"
     ]
    }
   ],
   "source": [
    "li = LinkedList()\n",
    "li.append(1)\n",
    "li.append(2)\n",
    "li.append(3)\n",
    "li.append(4)\n",
    "li.print_list()"
   ]
  },
  {
   "cell_type": "code",
   "execution_count": 13,
   "id": "5b7c2ae5",
   "metadata": {},
   "outputs": [
    {
     "data": {
      "text/plain": [
       "<__main__.Node at 0x1dee5bd0ed0>"
      ]
     },
     "execution_count": 13,
     "metadata": {},
     "output_type": "execute_result"
    }
   ],
   "source": [
    "odd_even_list(li.head)"
   ]
  },
  {
   "cell_type": "code",
   "execution_count": 14,
   "id": "cea4c0af",
   "metadata": {},
   "outputs": [
    {
     "name": "stdout",
     "output_type": "stream",
     "text": [
      "1  -->  3  -->  2  -->  4  -->  None\n"
     ]
    }
   ],
   "source": [
    "li.print_list()"
   ]
  },
  {
   "cell_type": "code",
   "execution_count": null,
   "id": "f06571f3",
   "metadata": {},
   "outputs": [],
   "source": []
  },
  {
   "cell_type": "markdown",
   "id": "93f3b55f",
   "metadata": {},
   "source": [
    "###  **Doubly Linked List**"
   ]
  },
  {
   "cell_type": "code",
   "execution_count": 15,
   "id": "e862c742",
   "metadata": {},
   "outputs": [],
   "source": [
    "class Node:\n",
    "    def __init__(self, data):\n",
    "        self.prev = None\n",
    "        self.data = data\n",
    "        self.next = None"
   ]
  },
  {
   "cell_type": "code",
   "execution_count": null,
   "id": "40f6a375",
   "metadata": {},
   "outputs": [],
   "source": [
    "class DoublyLinkedList:\n",
    "    def __init__(self):\n",
    "        self.head = None"
   ]
  },
  {
   "cell_type": "code",
   "execution_count": 16,
   "id": "eae0c978",
   "metadata": {},
   "outputs": [],
   "source": [
    "class Node:\n",
    "    def __init__(self, key = 0, value = 0):\n",
    "        self.left = None\n",
    "        self.key = key\n",
    "        self.value = value\n",
    "        self.right = None"
   ]
  },
  {
   "cell_type": "code",
   "execution_count": null,
   "id": "a53d9d3b",
   "metadata": {},
   "outputs": [],
   "source": [
    "class LRUCache:\n",
    "    \n",
    "    def __init__(slef, capacity):\n",
    "        pass\n",
    "    def \n",
    "        "
   ]
  }
 ],
 "metadata": {
  "kernelspec": {
   "display_name": "Python 3 (ipykernel)",
   "language": "python",
   "name": "python3"
  },
  "language_info": {
   "codemirror_mode": {
    "name": "ipython",
    "version": 3
   },
   "file_extension": ".py",
   "mimetype": "text/x-python",
   "name": "python",
   "nbconvert_exporter": "python",
   "pygments_lexer": "ipython3",
   "version": "3.11.4"
  }
 },
 "nbformat": 4,
 "nbformat_minor": 5
}

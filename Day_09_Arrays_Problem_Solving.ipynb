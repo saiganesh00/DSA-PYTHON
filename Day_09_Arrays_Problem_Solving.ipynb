{
 "cells": [
  {
   "cell_type": "code",
   "execution_count": 2,
   "id": "5a386961",
   "metadata": {},
   "outputs": [
    {
     "name": "stdout",
     "output_type": "stream",
     "text": [
      "0 4\n",
      "1 3\n",
      "2 !!!\n",
      "3 True\n"
     ]
    }
   ],
   "source": [
    "nums = [4, 3, \"!!!\", True]\n",
    "\n",
    "for ind, ele in enumerate(nums):\n",
    "    print(ind, ele)"
   ]
  },
  {
   "cell_type": "code",
   "execution_count": 13,
   "id": "43954fc7",
   "metadata": {},
   "outputs": [
    {
     "name": "stdout",
     "output_type": "stream",
     "text": [
      "[1, 1]\n"
     ]
    }
   ],
   "source": [
    "# Two Sum\n",
    "# Brute Force\n",
    "def two_sum(n, nums, target):\n",
    "    for i, ele1 in enumerate(nums):\n",
    "        for j, ele2 in enumerate(nums[i+1:]):\n",
    "            if ele1 + ele2 == target:\n",
    "                return [min(i, j), max(i, j)]\n",
    "            \n",
    "nums = [5, 2, 3, 8]\n",
    "print(two_sum(len(nums), nums, 10))"
   ]
  },
  {
   "cell_type": "code",
   "execution_count": 14,
   "id": "f87b656b",
   "metadata": {},
   "outputs": [
    {
     "name": "stdout",
     "output_type": "stream",
     "text": [
      "None\n"
     ]
    }
   ],
   "source": [
    "def two_sum(n, nums, target):\n",
    "    i = 0\n",
    "    for j in range(i+1, n):\n",
    "        if nums[i] + nums[j] == target:\n",
    "            return [i, j]\n",
    "        if j == n - 1:\n",
    "            i += 1\n",
    "\n",
    "nums = [5, 2, 3, 8]\n",
    "print(two_sum(len(nums), nums, 10))"
   ]
  },
  {
   "cell_type": "code",
   "execution_count": 12,
   "id": "59b1e9c1",
   "metadata": {},
   "outputs": [
    {
     "name": "stdout",
     "output_type": "stream",
     "text": [
      "[1, 3]\n"
     ]
    }
   ],
   "source": [
    "def two_sum(n, nums, target):\n",
    "    hm = {}\n",
    "    for ind, ele in enumerate(nums):\n",
    "        if target - ele in hm:\n",
    "            return [hm[target - ele], ind]\n",
    "        hm[ele] = ind\n",
    "\n",
    "nums = [5, 2, 3, 8]\n",
    "print(two_sum(len(nums), nums, 10))"
   ]
  },
  {
   "cell_type": "code",
   "execution_count": 16,
   "id": "b668d130",
   "metadata": {},
   "outputs": [
    {
     "name": "stdout",
     "output_type": "stream",
     "text": [
      "0\n"
     ]
    }
   ],
   "source": [
    "# Best Time to Buy and Sell stock\n",
    "\n",
    "def stock_buy_sell(n, prices):\n",
    "    min_price = 9999999\n",
    "    max_profit = 0\n",
    "    for price in prices:\n",
    "        max_proift = max(max_profit, price - min_price)\n",
    "        min_price = min(min_price, price)\n",
    "    return max_profit\n",
    "\n",
    "prices = [4, 7, 2, 6, 9, 3, 11]\n",
    "print(stock_buy_sell(len(prices), prices))"
   ]
  },
  {
   "cell_type": "code",
   "execution_count": 18,
   "id": "8fedd9f0",
   "metadata": {},
   "outputs": [
    {
     "name": "stdout",
     "output_type": "stream",
     "text": [
      "[1, 2, 3, 4, 5]\n"
     ]
    }
   ],
   "source": [
    "# Remove Duplicates from Sorted Array\n",
    "\n",
    "def remove_duplicates(n, arr):\n",
    "    return sorted(list(set(arr)))\n",
    "\n",
    "nums = [1, 1, 1, 2, 2, 3, 4, 4, 5, 5]\n",
    "print(remove_duplicates(len(nums), nums))"
   ]
  },
  {
   "cell_type": "code",
   "execution_count": 20,
   "id": "db0fff47",
   "metadata": {},
   "outputs": [
    {
     "name": "stdout",
     "output_type": "stream",
     "text": [
      "[1, 2, 3, 4, 5]\n"
     ]
    }
   ],
   "source": [
    "def remove_duplicates(n, arr):\n",
    "    ans = [arr[0]]\n",
    "    for ele in arr:\n",
    "        if ele != ans[-1]:\n",
    "            ans.append(ele)\n",
    "    return ans            \n",
    "\n",
    "nums = [1, 1, 1, 2, 2, 3, 4, 4, 5, 5]\n",
    "print(remove_duplicates(len(nums), nums))"
   ]
  },
  {
   "cell_type": "code",
   "execution_count": 22,
   "id": "8316f4b0",
   "metadata": {},
   "outputs": [
    {
     "name": "stdout",
     "output_type": "stream",
     "text": [
      "True\n",
      "False\n"
     ]
    }
   ],
   "source": [
    "from collections import Counter\n",
    "def is_anagram(s1, s2):\n",
    "    if len(s1) !=  len(s2):\n",
    "        return False\n",
    "    \n",
    "    counter1 = Counter(s1)\n",
    "    counter2 = Counter(s2)\n",
    "    \n",
    "    return counter1 == counter2\n",
    "\n",
    "print(is_anagram(\"dusty\", \"study\"))\n",
    "print(is_anagram(\"cat\", \"rat\"))"
   ]
  },
  {
   "cell_type": "code",
   "execution_count": null,
   "id": "d109ff91",
   "metadata": {},
   "outputs": [],
   "source": []
  }
 ],
 "metadata": {
  "kernelspec": {
   "display_name": "Python 3 (ipykernel)",
   "language": "python",
   "name": "python3"
  },
  "language_info": {
   "codemirror_mode": {
    "name": "ipython",
    "version": 3
   },
   "file_extension": ".py",
   "mimetype": "text/x-python",
   "name": "python",
   "nbconvert_exporter": "python",
   "pygments_lexer": "ipython3",
   "version": "3.11.4"
  }
 },
 "nbformat": 4,
 "nbformat_minor": 5
}

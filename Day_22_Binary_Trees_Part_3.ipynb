{
 "cells": [
  {
   "cell_type": "code",
   "execution_count": 2,
   "id": "1a1a5b42",
   "metadata": {},
   "outputs": [],
   "source": [
    "# Diamaeter of a binary tree --> Longest path of binary tree\n",
    "\n",
    "def diameter_of_binary_tree(root):\n",
    "    pass"
   ]
  },
  {
   "cell_type": "code",
   "execution_count": 3,
   "id": "c515bcf0",
   "metadata": {},
   "outputs": [],
   "source": [
    "def ancestor(root, p, q):\n",
    "    if root:\n",
    "        if root.data == p or root.data == q:\n",
    "            return root\n",
    "        l, r = ancestor(root.left, p, q), ancestor(root.right, p, q)\n",
    "        if l and r:\n",
    "            return root\n",
    "        return l if l else r"
   ]
  },
  {
   "cell_type": "code",
   "execution_count": 4,
   "id": "4380b8c4",
   "metadata": {},
   "outputs": [
    {
     "ename": "SyntaxError",
     "evalue": "invalid syntax (3931937649.py, line 12)",
     "output_type": "error",
     "traceback": [
      "\u001b[1;36m  Cell \u001b[1;32mIn[4], line 12\u001b[1;36m\u001b[0m\n\u001b[1;33m    func(root, 0, m):\u001b[0m\n\u001b[1;37m                    ^\u001b[0m\n\u001b[1;31mSyntaxError\u001b[0m\u001b[1;31m:\u001b[0m invalid syntax\n"
     ]
    }
   ],
   "source": [
    "# views\n",
    "# Binary tree right side view\n",
    "\n",
    "def func(root, level, m):\n",
    "    if root:\n",
    "        m[level] = root.val\n",
    "        func(root.left, level + 1, m)\n",
    "        func(root.right, level + 1, m)\n",
    "\n",
    "def tree_right_view(root):\n",
    "    m = {}\n",
    "    func(root, 0, m)\n",
    "    return m.vaules()"
   ]
  },
  {
   "cell_type": "code",
   "execution_count": 5,
   "id": "4500ae7b",
   "metadata": {},
   "outputs": [],
   "source": [
    "# Binary tree left side view\n",
    "\n",
    "def func(root, level, m):\n",
    "    if root:\n",
    "        m[level] = root.val\n",
    "        func(root.right, level + 1, m)\n",
    "        func(root.left, level + 1, m)      \n",
    "\n",
    "def tree_right_view(root):\n",
    "    m = {}\n",
    "    func(root, 0, m)\n",
    "    return m.vaules()"
   ]
  },
  {
   "cell_type": "code",
   "execution_count": null,
   "id": "3e93ee8a",
   "metadata": {},
   "outputs": [],
   "source": [
    "# Binary tree top view\n",
    "\n",
    "def func(root, level, m):\n",
    "    if root:\n",
    "        m[level] = root.val\n",
    "        func(root.right, level - 1, m)\n",
    "        func(root.left, level + 1, m)      \n",
    "\n",
    "def tree_right_view(root):\n",
    "    m = {}\n",
    "    func(root, 0, m)\n",
    "    return m.vaules()"
   ]
  }
 ],
 "metadata": {
  "kernelspec": {
   "display_name": "Python 3 (ipykernel)",
   "language": "python",
   "name": "python3"
  },
  "language_info": {
   "codemirror_mode": {
    "name": "ipython",
    "version": 3
   },
   "file_extension": ".py",
   "mimetype": "text/x-python",
   "name": "python",
   "nbconvert_exporter": "python",
   "pygments_lexer": "ipython3",
   "version": "3.11.4"
  }
 },
 "nbformat": 4,
 "nbformat_minor": 5
}

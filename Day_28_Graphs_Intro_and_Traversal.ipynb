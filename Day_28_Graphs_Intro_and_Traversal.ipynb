{
 "cells": [
  {
   "cell_type": "markdown",
   "id": "d68b61b8",
   "metadata": {},
   "source": [
    "### **Graph**\n",
    "- **G(V, E)**"
   ]
  },
  {
   "cell_type": "code",
   "execution_count": 5,
   "id": "a2fa4426",
   "metadata": {},
   "outputs": [],
   "source": [
    "from collections import deque"
   ]
  },
  {
   "cell_type": "code",
   "execution_count": 13,
   "id": "e9191b6b",
   "metadata": {},
   "outputs": [],
   "source": [
    "def create_adj_dir(edges):\n",
    "    numOfNodes = 1 + max([e[1] for e in edges] + [e[0] for e in edges])\n",
    "    \n",
    "    adj = [[0] * numOfNodes for _ in range(numOfNodes)]\n",
    "    for e in edges:\n",
    "        adj[e[0]][e[1]] = 1\n",
    "    return adj"
   ]
  },
  {
   "cell_type": "code",
   "execution_count": 16,
   "id": "d06a80f1",
   "metadata": {},
   "outputs": [],
   "source": [
    "def create_adj_undir(edges):\n",
    "    numOfNodes = 1 + max([e[1] for e in edges] + [e[0] for e in edges])\n",
    "    \n",
    "    adj = [[0] * numOfNodes for _ in range(numOfNodes)]\n",
    "    for e in edges:\n",
    "        adj[e[0]][e[1]] = adj[e[1]][e[0]] = 1\n",
    "    return adj"
   ]
  },
  {
   "cell_type": "code",
   "execution_count": 29,
   "id": "0486fbeb",
   "metadata": {},
   "outputs": [],
   "source": [
    "def dfs(adj):\n",
    "    print(\"BFS\")\n",
    "    vis = set()\n",
    "    n = len(adj)\n",
    "    for i in range(n):\n",
    "        if i in vis:\n",
    "            continue\n",
    "        vis.add(i)\n",
    "        q = deque([i])\n",
    "        while q:\n",
    "            ele = q.pop()\n",
    "            print(ele, end = \" \")\n",
    "            for adjele in range(n):\n",
    "                if adj[ele][adjele] and adjele not in vis:\n",
    "                    vis.add(adjele)\n",
    "                    q.append(adjele)\n",
    "    print()"
   ]
  },
  {
   "cell_type": "code",
   "execution_count": 26,
   "id": "81b4e604",
   "metadata": {},
   "outputs": [],
   "source": [
    "def bfs(adj):\n",
    "    print(\"BFS\")\n",
    "    vis = set()\n",
    "    n = len(adj)\n",
    "    for i in range(n):\n",
    "        if i in vis:\n",
    "            continue\n",
    "        vis.add(i)\n",
    "        q = deque([i])\n",
    "        while q:\n",
    "            ele = q.pop()\n",
    "            print(ele, end = \" \")\n",
    "            for adjele in range(n):\n",
    "                if adj[ele][adjele] and adjele not in vis:\n",
    "                    vis.add(adjele)\n",
    "                    q.appendleft(adjele)\n",
    "    print()"
   ]
  },
  {
   "cell_type": "code",
   "execution_count": 32,
   "id": "eab36410",
   "metadata": {},
   "outputs": [],
   "source": [
    "def dfs_recursive(adj):\n",
    "    pass"
   ]
  },
  {
   "cell_type": "code",
   "execution_count": 33,
   "id": "45552337",
   "metadata": {},
   "outputs": [],
   "source": [
    "def bfs_recursive(adj):\n",
    "    pass"
   ]
  },
  {
   "cell_type": "code",
   "execution_count": 46,
   "id": "3cb1144f",
   "metadata": {},
   "outputs": [],
   "source": [
    "def detect_cycle_unidirected_dfs(adj):\n",
    "    print(\"Detect Cycle Undirected DFS using Stack\")\n",
    "    vis = set()  # Set to track visited nodes\n",
    "    n = len(adj)  # Number of nodes\n",
    "    \n",
    "    # Loop over all nodes to ensure we handle disconnected components\n",
    "    for i in range(n):\n",
    "        if i in vis:\n",
    "            continue  # Skip if already visited\n",
    "            \n",
    "        # Stack for DFS starting from node `i`\n",
    "        vis.add(i)\n",
    "        st = deque([[i, -1]])  # Stack with format [node, parent]\n",
    "        \n",
    "        while st:\n",
    "            ele, par = st.pop()  # Current node and its parent\n",
    "            \n",
    "            # Traverse all adjacent nodes\n",
    "            for adjele in range(n):\n",
    "                if adj[ele][adjele]:  # If there's an edge between `ele` and `adjele`\n",
    "                    if adjele not in vis:\n",
    "                        vis.add(adjele)  # Mark adjacent node as visited\n",
    "                        st.append([adjele, ele])  # Add the adjacent node to the stack\n",
    "                    elif adjele != par:  # If the adjacent node is visited and not the parent\n",
    "                        print(f\"Cycle found at {ele} - {adjele}\")\n",
    "                        return  # Exit once a cycle is found\n",
    "    \n",
    "    print(\"Cycle not found\")"
   ]
  },
  {
   "cell_type": "code",
   "execution_count": 42,
   "id": "605db48e",
   "metadata": {},
   "outputs": [],
   "source": [
    "def detect_cycle_unidirected_bfs(adj):\n",
    "    print(\"Detect Cycle Undirected BFS\")\n",
    "    vis = set()  # Visited nodes\n",
    "    n = len(adj)  # Number of nodes\n",
    "    \n",
    "    for i in range(n):\n",
    "        if i in vis:\n",
    "            continue  # Skip if already visited\n",
    "            \n",
    "        # Start BFS from node `i`\n",
    "        vis.add(i)\n",
    "        q = deque([[i, -1]])  # Queue for BFS with format [node, parent]\n",
    "        \n",
    "        while q:\n",
    "            ele, par = q.pop()  # Current node and its parent\n",
    "            \n",
    "            # Traverse all adjacent nodes\n",
    "            for adjele in range(n):\n",
    "                if adj[ele][adjele]:  # There's an edge between `ele` and `adjele`\n",
    "                    if adjele not in vis:\n",
    "                        vis.add(adjele)  # Mark as visited\n",
    "                        q.appendleft([adjele, ele])  # Add to queue\n",
    "                    elif adjele != par:  # If the adjacent node is not the parent, a cycle is found\n",
    "                        print(f\"Cycle found at {ele} - {adjele}\")\n",
    "                        return  # Exit once a cycle is found\n",
    "    \n",
    "    print(\"Cycle not found\")"
   ]
  },
  {
   "cell_type": "code",
   "execution_count": null,
   "id": "ceb6ef3f",
   "metadata": {},
   "outputs": [],
   "source": []
  },
  {
   "cell_type": "code",
   "execution_count": null,
   "id": "320850d0",
   "metadata": {},
   "outputs": [],
   "source": []
  },
  {
   "cell_type": "code",
   "execution_count": 17,
   "id": "f4c21644",
   "metadata": {},
   "outputs": [
    {
     "name": "stdout",
     "output_type": "stream",
     "text": [
      "[0, 1, 0, 0, 0, 0, 0, 0]\n",
      "[0, 0, 1, 1, 0, 0, 0, 0]\n",
      "[0, 0, 0, 0, 1, 0, 0, 0]\n",
      "[0, 0, 0, 0, 1, 0, 0, 0]\n",
      "[0, 0, 0, 0, 0, 0, 0, 0]\n",
      "[0, 0, 0, 0, 0, 0, 0, 1]\n",
      "[0, 0, 0, 0, 0, 0, 0, 0]\n",
      "[0, 0, 0, 0, 0, 0, 1, 0]\n"
     ]
    }
   ],
   "source": [
    "adj_dir = create_adj_dir([[0, 1], [1, 2], [1, 3], [2, 4], [3, 4], [5, 7], [7, 6]])\n",
    "for li in adj_dir:\n",
    "    print(li)"
   ]
  },
  {
   "cell_type": "code",
   "execution_count": 18,
   "id": "a6ef7af4",
   "metadata": {},
   "outputs": [
    {
     "name": "stdout",
     "output_type": "stream",
     "text": [
      "[0, 1, 0, 0, 0, 0, 0, 0]\n",
      "[1, 0, 1, 1, 0, 0, 0, 0]\n",
      "[0, 1, 0, 0, 1, 0, 0, 0]\n",
      "[0, 1, 0, 0, 1, 0, 0, 0]\n",
      "[0, 0, 1, 1, 0, 0, 0, 0]\n",
      "[0, 0, 0, 0, 0, 0, 0, 1]\n",
      "[0, 0, 0, 0, 0, 0, 0, 1]\n",
      "[0, 0, 0, 0, 0, 1, 1, 0]\n"
     ]
    }
   ],
   "source": [
    "adj_undir = create_adj_undir([[0, 1], [1, 2], [1, 3], [2, 4], [3, 4], [5, 7], [7, 6]])\n",
    "for li in adj_undir:\n",
    "    print(li)"
   ]
  },
  {
   "cell_type": "code",
   "execution_count": 27,
   "id": "a4fa9c56",
   "metadata": {},
   "outputs": [
    {
     "name": "stdout",
     "output_type": "stream",
     "text": [
      "BFS\n",
      "0 1 2 3 4 5 7 6 \n"
     ]
    }
   ],
   "source": [
    "bfs(adj_dir)"
   ]
  },
  {
   "cell_type": "code",
   "execution_count": 28,
   "id": "0d8395e1",
   "metadata": {},
   "outputs": [
    {
     "name": "stdout",
     "output_type": "stream",
     "text": [
      "BFS\n",
      "0 1 2 3 4 5 7 6 \n"
     ]
    }
   ],
   "source": [
    "bfs(adj_undir)"
   ]
  },
  {
   "cell_type": "code",
   "execution_count": 30,
   "id": "e4803af7",
   "metadata": {},
   "outputs": [
    {
     "name": "stdout",
     "output_type": "stream",
     "text": [
      "BFS\n",
      "0 1 3 4 2 5 7 6 \n"
     ]
    }
   ],
   "source": [
    "dfs(adj_dir)"
   ]
  },
  {
   "cell_type": "code",
   "execution_count": 31,
   "id": "6b471660",
   "metadata": {},
   "outputs": [
    {
     "name": "stdout",
     "output_type": "stream",
     "text": [
      "BFS\n",
      "0 1 3 4 2 5 7 6 \n"
     ]
    }
   ],
   "source": [
    "dfs(adj_undir)"
   ]
  },
  {
   "cell_type": "code",
   "execution_count": 43,
   "id": "7064814e",
   "metadata": {},
   "outputs": [
    {
     "name": "stdout",
     "output_type": "stream",
     "text": [
      "Detect Cycle Undirected BFS\n",
      "Cycle found at 3 - 4\n"
     ]
    }
   ],
   "source": [
    "detect_cycle_unidirected_bfs(adj_undir)"
   ]
  },
  {
   "cell_type": "code",
   "execution_count": 47,
   "id": "0c8a058c",
   "metadata": {},
   "outputs": [
    {
     "name": "stdout",
     "output_type": "stream",
     "text": [
      "Detect Cycle Undirected DFS using Stack\n",
      "Cycle found at 4 - 2\n"
     ]
    }
   ],
   "source": [
    "detect_cycle_unidirected_dfs(adj_undir)"
   ]
  },
  {
   "cell_type": "code",
   "execution_count": null,
   "id": "02d29fac",
   "metadata": {},
   "outputs": [],
   "source": []
  }
 ],
 "metadata": {
  "kernelspec": {
   "display_name": "Python 3 (ipykernel)",
   "language": "python",
   "name": "python3"
  },
  "language_info": {
   "codemirror_mode": {
    "name": "ipython",
    "version": 3
   },
   "file_extension": ".py",
   "mimetype": "text/x-python",
   "name": "python",
   "nbconvert_exporter": "python",
   "pygments_lexer": "ipython3",
   "version": "3.11.4"
  }
 },
 "nbformat": 4,
 "nbformat_minor": 5
}
